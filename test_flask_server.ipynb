{
 "cells": [
  {
   "cell_type": "code",
   "execution_count": 1,
   "metadata": {},
   "outputs": [],
   "source": [
    "import json\n",
    "import requests as req\n",
    "\n",
    "headers={'Content-Type':'application/json',\n",
    "         'credentials':'include'}"
   ]
  },
  {
   "cell_type": "code",
   "execution_count": 1,
   "metadata": {},
   "outputs": [
    {
     "data": {
      "text/plain": [
       "1689352862.9147708"
      ]
     },
     "execution_count": 1,
     "metadata": {},
     "output_type": "execute_result"
    }
   ],
   "source": [
    "import time\n",
    "\n",
    "time.time()"
   ]
  },
  {
   "cell_type": "code",
   "execution_count": null,
   "metadata": {},
   "outputs": [],
   "source": [
    "'value1':i_data['']\n",
    "'value2':i_data['']\n",
    "'value3':i_data['']\n",
    "'value4':i_data['']\n",
    "'value5':i_data['']\n",
    "'value6':i_data['']\n",
    "'value7':i_data['']\n",
    "'value8':i_data['']\n",
    "'value9':i_data['']\n",
    "'value10':i_data['']\n",
    "'value11':i_data['']\n",
    "'value12':i_data['']\n",
    "'value13':i_data['']\n",
    "'value14':i_data['']"
   ]
  },
  {
   "cell_type": "code",
   "execution_count": null,
   "metadata": {},
   "outputs": [],
   "source": [
    "\n",
    "\n"
   ]
  },
  {
   "cell_type": "code",
   "execution_count": null,
   "metadata": {},
   "outputs": [],
   "source": []
  },
  {
   "cell_type": "code",
   "execution_count": 92,
   "metadata": {},
   "outputs": [],
   "source": [
    "s=req.Session()"
   ]
  },
  {
   "cell_type": "code",
   "execution_count": 128,
   "metadata": {},
   "outputs": [
    {
     "data": {
      "text/plain": [
       "<Response [200]>"
      ]
     },
     "execution_count": 128,
     "metadata": {},
     "output_type": "execute_result"
    }
   ],
   "source": [
    "s.get(\"http://127.0.0.1:5000/auth/logout\")"
   ]
  },
  {
   "cell_type": "code",
   "execution_count": 123,
   "metadata": {},
   "outputs": [],
   "source": [
    "json_post=json.dumps({'username':'rsherby7@gmail.com','password':'admin'})\n",
    "login_res=s.post(\"http://127.0.0.1:5000/auth/login\",json_post,headers=headers)"
   ]
  },
  {
   "cell_type": "code",
   "execution_count": 115,
   "metadata": {},
   "outputs": [
    {
     "data": {
      "text/plain": [
       "'{\"error\": null}'"
      ]
     },
     "execution_count": 115,
     "metadata": {},
     "output_type": "execute_result"
    }
   ],
   "source": [
    "login_res.text"
   ]
  },
  {
   "cell_type": "code",
   "execution_count": 119,
   "metadata": {},
   "outputs": [],
   "source": [
    "output={'error'}"
   ]
  },
  {
   "cell_type": "code",
   "execution_count": 129,
   "metadata": {},
   "outputs": [],
   "source": [
    "res=s.get(\"http://127.0.0.1:5000/data/searches/input\")"
   ]
  },
  {
   "cell_type": "code",
   "execution_count": 130,
   "metadata": {},
   "outputs": [
    {
     "data": {
      "text/plain": [
       "'{\"error\": \"User is not logged in.\"}'"
      ]
     },
     "execution_count": 130,
     "metadata": {},
     "output_type": "execute_result"
    }
   ],
   "source": [
    "res.text"
   ]
  },
  {
   "cell_type": "code",
   "execution_count": 126,
   "metadata": {},
   "outputs": [],
   "source": [
    "out=s.get(\"http://127.0.0.1:5000/data/searches/output\")"
   ]
  },
  {
   "cell_type": "code",
   "execution_count": 127,
   "metadata": {},
   "outputs": [
    {
     "data": {
      "text/plain": [
       "'{\"error\": null, \"data\": [{\"s_id\": \"22\", \"h_id\": \"7381594\", \"time_stamp\": \"2023-07-18 08:15:52\", \"url\": \"https://www.redfin.com/TX/Houston/2417-Rosewood-St-77004/home/29892328\", \"price\": \"325000.0\", \"bedrooms\": \"3.0\", \"bathrooms\": \"2.0\", \"sqft\": \"1146.0\", \"year_built\": \"1930.0\", \"address\": \"2417 Rosewood St\", \"state\": \"TX\", \"city\": \"Houston\", \"zip\": \"77004\", \"openHouse_st\": \"None\", \"openHouse_et\": \"None\", \"HOA/month\": \"None\", \"days_on_market\": \"12.0\", \"price_per_sqft\": \"284.0\", \"order\": \"0\", \"rank\": \"1\"}, {\"s_id\": \"22\", \"h_id\": \"402558\", \"time_stamp\": \"2023-07-18 08:15:52\", \"url\": \"https://www.redfin.com/TX/Houston/1411-Wheeler-St-77004/home/29808471\", \"price\": \"324900.0\", \"bedrooms\": \"3.0\", \"bathrooms\": \"1.5\", \"sqft\": \"1172.0\", \"year_built\": \"1965.0\", \"address\": \"1411 Wheeler St\", \"state\": \"TX\", \"city\": \"Houston\", \"zip\": \"77004\", \"openHouse_st\": \"None\", \"openHouse_et\": \"None\", \"HOA/month\": \"None\", \"days_on_market\": \"70.0\", \"price_per_sqft\": \"277.0\", \"order\": \"1\", \"rank\": \"1\"}, {\"s_id\": \"22\", \"h_id\": \"402576\", \"time_stamp\": \"2023-07-18 08:15:52\", \"url\": \"https://www.redfin.com/TX/Houston/1410-Rosewood-St-77004/home/29808435\", \"price\": \"439000.0\", \"bedrooms\": \"3.0\", \"bathrooms\": \"2.0\", \"sqft\": \"1439.0\", \"year_built\": \"1929.0\", \"address\": \"1410 Rosewood St\", \"state\": \"TX\", \"city\": \"Houston\", \"zip\": \"77004\", \"openHouse_st\": \"None\", \"openHouse_et\": \"None\", \"HOA/month\": \"None\", \"days_on_market\": \"82.0\", \"price_per_sqft\": \"305.0\", \"order\": \"2\", \"rank\": \"1\"}, {\"s_id\": \"22\", \"h_id\": \"402572\", \"time_stamp\": \"2023-07-18 08:15:52\", \"url\": \"https://www.redfin.com/TX/Houston/3230-Berry-St-77004/unit-4/home/177661759\", \"price\": \"417000.0\", \"bedrooms\": \"3.0\", \"bathrooms\": \"2.5\", \"sqft\": \"1350.0\", \"year_built\": \"2022.0\", \"address\": \"3230 Berry St #4\", \"state\": \"TX\", \"city\": \"Houston\", \"zip\": \"77004\", \"openHouse_st\": \"None\", \"openHouse_et\": \"None\", \"HOA/month\": \"None\", \"days_on_market\": \"81.0\", \"price_per_sqft\": \"309.0\", \"order\": \"3\", \"rank\": \"1\"}, {\"s_id\": \"22\", \"h_id\": \"402617\", \"time_stamp\": \"2023-07-18 08:15:52\", \"url\": \"https://www.redfin.com/TX/Houston/3512-Cobb-St-77004/home/145086479\", \"price\": \"475000.0\", \"bedrooms\": \"3.0\", \"bathrooms\": \"2.0\", \"sqft\": \"1534.0\", \"year_built\": \"2022.0\", \"address\": \"3512 Cobb St\", \"state\": \"TX\", \"city\": \"Houston\", \"zip\": \"77004\", \"openHouse_st\": \"None\", \"openHouse_et\": \"None\", \"HOA/month\": \"None\", \"days_on_market\": \"202.0\", \"price_per_sqft\": \"310.0\", \"order\": \"4\", \"rank\": \"1\"}, {\"s_id\": \"22\", \"h_id\": \"402518\", \"time_stamp\": \"2023-07-18 08:15:52\", \"url\": \"https://www.redfin.com/TX/Houston/3422-Hadley-St-77004/home/29814119\", \"price\": \"290000.0\", \"bedrooms\": \"4.0\", \"bathrooms\": \"2.0\", \"sqft\": \"1284.0\", \"year_built\": \"1935.0\", \"address\": \"3418 and 3422 Hadley St\", \"state\": \"TX\", \"city\": \"Houston\", \"zip\": \"77004\", \"openHouse_st\": \"None\", \"openHouse_et\": \"None\", \"HOA/month\": \"None\", \"days_on_market\": \"45.0\", \"price_per_sqft\": \"226.0\", \"order\": \"5\", \"rank\": \"1\"}, {\"s_id\": \"22\", \"h_id\": \"402509\", \"time_stamp\": \"2023-07-18 08:15:52\", \"url\": \"https://www.redfin.com/TX/Houston/3344-Francis-St-77004/home/176480840\", \"price\": \"389000.0\", \"bedrooms\": \"3.0\", \"bathrooms\": \"2.5\", \"sqft\": \"1628.0\", \"year_built\": \"2022.0\", \"address\": \"3344 Francis St\", \"state\": \"TX\", \"city\": \"Houston\", \"zip\": \"77004\", \"openHouse_st\": \"None\", \"openHouse_et\": \"None\", \"HOA/month\": \"None\", \"days_on_market\": \"38.0\", \"price_per_sqft\": \"239.0\", \"order\": \"6\", \"rank\": \"1\"}, {\"s_id\": \"22\", \"h_id\": \"402483\", \"time_stamp\": \"2023-07-18 08:15:52\", \"url\": \"https://www.redfin.com/TX/Houston/3320-Bremond-St-77004/home/29765568\", \"price\": \"275000.0\", \"bedrooms\": \"3.0\", \"bathrooms\": \"1.0\", \"sqft\": \"1064.0\", \"year_built\": \"1913.0\", \"address\": \"3320 Bremond St\", \"state\": \"TX\", \"city\": \"Houston\", \"zip\": \"77004\", \"openHouse_st\": \"None\", \"openHouse_et\": \"None\", \"HOA/month\": \"None\", \"days_on_market\": \"21.0\", \"price_per_sqft\": \"258.0\", \"order\": \"7\", \"rank\": \"1\"}, {\"s_id\": \"22\", \"h_id\": \"402628\", \"time_stamp\": \"2023-07-18 08:15:52\", \"url\": \"https://www.redfin.com/TX/Houston/3706-Drew-St-77004/home/29708006\", \"price\": \"450000.0\", \"bedrooms\": \"3.0\", \"bathrooms\": \"1.0\", \"sqft\": \"1040.0\", \"year_built\": \"1953.0\", \"address\": \"3706 Drew St\", \"state\": \"TX\", \"city\": \"Houston\", \"zip\": \"77004\", \"openHouse_st\": \"None\", \"openHouse_et\": \"None\", \"HOA/month\": \"None\", \"days_on_market\": \"164.0\", \"price_per_sqft\": \"433.0\", \"order\": \"8\", \"rank\": \"1\"}, {\"s_id\": \"22\", \"h_id\": \"402512\", \"time_stamp\": \"2023-07-18 08:15:52\", \"url\": \"https://www.redfin.com/TX/Houston/3825-Wichita-St-77004/home/29969308\", \"price\": \"303000.0\", \"bedrooms\": \"3.0\", \"bathrooms\": \"1.0\", \"sqft\": \"1256.0\", \"year_built\": \"1950.0\", \"address\": \"3825 Wichita St\", \"state\": \"TX\", \"city\": \"Houston\", \"zip\": \"77004\", \"openHouse_st\": \"None\", \"openHouse_et\": \"None\", \"HOA/month\": \"None\", \"days_on_market\": \"40.0\", \"price_per_sqft\": \"241.0\", \"order\": \"9\", \"rank\": \"1\"}, {\"s_id\": \"22\", \"h_id\": \"402599\", \"time_stamp\": \"2023-07-18 08:15:52\", \"url\": \"https://www.redfin.com/TX/Houston/2800-Holman-St-77004/home/29694745\", \"price\": \"315000.0\", \"bedrooms\": \"3.0\", \"bathrooms\": \"3.0\", \"sqft\": \"1327.0\", \"year_built\": \"1936.0\", \"address\": \"2800 Holman St\", \"state\": \"TX\", \"city\": \"Houston\", \"zip\": \"77004\", \"openHouse_st\": \"None\", \"openHouse_et\": \"None\", \"HOA/month\": \"None\", \"days_on_market\": \"131.0\", \"price_per_sqft\": \"237.0\", \"order\": \"10\", \"rank\": \"1\"}, {\"s_id\": \"22\", \"h_id\": \"402504\", \"time_stamp\": \"2023-07-18 08:15:52\", \"url\": \"https://www.redfin.com/TX/Houston/1400-Dennis-St-77004/home/30709164\", \"price\": \"399999.0\", \"bedrooms\": \"4.0\", \"bathrooms\": \"2.0\", \"sqft\": \"1592.0\", \"year_built\": \"2000.0\", \"address\": \"1400 Dennis St\", \"state\": \"TX\", \"city\": \"Houston\", \"zip\": \"77004\", \"openHouse_st\": \"2023-07-22 11:00:00\", \"openHouse_et\": \"2023-07-22 13:00:00\", \"HOA/month\": \"71.0\", \"days_on_market\": \"35.0\", \"price_per_sqft\": \"251.0\", \"order\": \"11\", \"rank\": \"1\"}, {\"s_id\": \"22\", \"h_id\": \"402476\", \"time_stamp\": \"2023-07-18 08:15:52\", \"url\": \"https://www.redfin.com/TX/Houston/3243-Alabama-St-77004/home/29907737\", \"price\": \"378000.0\", \"bedrooms\": \"3.0\", \"bathrooms\": \"1.5\", \"sqft\": \"1740.0\", \"year_built\": \"1930.0\", \"address\": \"3243 Alabama St\", \"state\": \"TX\", \"city\": \"Houston\", \"zip\": \"77004\", \"openHouse_st\": \"None\", \"openHouse_et\": \"None\", \"HOA/month\": \"None\", \"days_on_market\": \"18.0\", \"price_per_sqft\": \"217.0\", \"order\": \"12\", \"rank\": \"1\"}, {\"s_id\": \"22\", \"h_id\": \"402577\", \"time_stamp\": \"2023-07-18 08:15:52\", \"url\": \"https://www.redfin.com/TX/Houston/1411-Ruth-St-77004/home/29808436\", \"price\": \"439000.0\", \"bedrooms\": \"2.0\", \"bathrooms\": \"1.0\", \"sqft\": \"1136.0\", \"year_built\": \"1929.0\", \"address\": \"1411 Ruth St\", \"state\": \"TX\", \"city\": \"Houston\", \"zip\": \"77004\", \"openHouse_st\": \"None\", \"openHouse_et\": \"None\", \"HOA/month\": \"None\", \"days_on_market\": \"82.0\", \"price_per_sqft\": \"386.0\", \"order\": \"13\", \"rank\": \"1\"}, {\"s_id\": \"22\", \"h_id\": \"402608\", \"time_stamp\": \"2023-07-18 08:15:52\", \"url\": \"https://www.redfin.com/TX/Houston/3015-Truxillo-St-77004/home/29893484\", \"price\": \"295000.0\", \"bedrooms\": \"2.0\", \"bathrooms\": \"1.0\", \"sqft\": \"1242.0\", \"year_built\": \"1936.0\", \"address\": \"3015 Truxillo St\", \"state\": \"TX\", \"city\": \"Houston\", \"zip\": \"77004\", \"openHouse_st\": \"None\", \"openHouse_et\": \"None\", \"HOA/month\": \"None\", \"days_on_market\": \"155.0\", \"price_per_sqft\": \"238.0\", \"order\": \"14\", \"rank\": \"1\"}, {\"s_id\": \"21\", \"h_id\": \"402599\", \"time_stamp\": \"2023-07-18 08:15:52\", \"url\": \"https://www.redfin.com/TX/Houston/2800-Holman-St-77004/home/29694745\", \"price\": \"315000.0\", \"bedrooms\": \"3.0\", \"bathrooms\": \"3.0\", \"sqft\": \"1327.0\", \"year_built\": \"1936.0\", \"address\": \"2800 Holman St\", \"state\": \"TX\", \"city\": \"Houston\", \"zip\": \"77004\", \"openHouse_st\": \"None\", \"openHouse_et\": \"None\", \"HOA/month\": \"None\", \"days_on_market\": \"131.0\", \"price_per_sqft\": \"237.0\", \"order\": \"0\", \"rank\": \"2\"}, {\"s_id\": \"21\", \"h_id\": \"402572\", \"time_stamp\": \"2023-07-18 08:15:52\", \"url\": \"https://www.redfin.com/TX/Houston/3230-Berry-St-77004/unit-4/home/177661759\", \"price\": \"417000.0\", \"bedrooms\": \"3.0\", \"bathrooms\": \"2.5\", \"sqft\": \"1350.0\", \"year_built\": \"2022.0\", \"address\": \"3230 Berry St #4\", \"state\": \"TX\", \"city\": \"Houston\", \"zip\": \"77004\", \"openHouse_st\": \"None\", \"openHouse_et\": \"None\", \"HOA/month\": \"None\", \"days_on_market\": \"81.0\", \"price_per_sqft\": \"309.0\", \"order\": \"1\", \"rank\": \"2\"}, {\"s_id\": \"21\", \"h_id\": \"402509\", \"time_stamp\": \"2023-07-18 08:15:52\", \"url\": \"https://www.redfin.com/TX/Houston/3344-Francis-St-77004/home/176480840\", \"price\": \"389000.0\", \"bedrooms\": \"3.0\", \"bathrooms\": \"2.5\", \"sqft\": \"1628.0\", \"year_built\": \"2022.0\", \"address\": \"3344 Francis St\", \"state\": \"TX\", \"city\": \"Houston\", \"zip\": \"77004\", \"openHouse_st\": \"None\", \"openHouse_et\": \"None\", \"HOA/month\": \"None\", \"days_on_market\": \"38.0\", \"price_per_sqft\": \"239.0\", \"order\": \"2\", \"rank\": \"2\"}, {\"s_id\": \"21\", \"h_id\": \"402494\", \"time_stamp\": \"2023-07-18 08:15:52\", \"url\": \"https://www.redfin.com/TX/Houston/3120-Wichita-St-77004/home/29912221\", \"price\": \"405000.0\", \"bedrooms\": \"3.0\", \"bathrooms\": \"3.0\", \"sqft\": \"1786.0\", \"year_built\": \"1950.0\", \"address\": \"3120 Wichita St\", \"state\": \"TX\", \"city\": \"Houston\", \"zip\": \"77004\", \"openHouse_st\": \"None\", \"openHouse_et\": \"None\", \"HOA/month\": \"None\", \"days_on_market\": \"27.0\", \"price_per_sqft\": \"227.0\", \"order\": \"3\", \"rank\": \"2\"}, {\"s_id\": \"21\", \"h_id\": \"402576\", \"time_stamp\": \"2023-07-18 08:15:52\", \"url\": \"https://www.redfin.com/TX/Houston/1410-Rosewood-St-77004/home/29808435\", \"price\": \"439000.0\", \"bedrooms\": \"3.0\", \"bathrooms\": \"2.0\", \"sqft\": \"1439.0\", \"year_built\": \"1929.0\", \"address\": \"1410 Rosewood St\", \"state\": \"TX\", \"city\": \"Houston\", \"zip\": \"77004\", \"openHouse_st\": \"None\", \"openHouse_et\": \"None\", \"HOA/month\": \"None\", \"days_on_market\": \"82.0\", \"price_per_sqft\": \"305.0\", \"order\": \"4\", \"rank\": \"2\"}, {\"s_id\": \"21\", \"h_id\": \"402363\", \"time_stamp\": \"2023-07-18 08:15:52\", \"url\": \"https://www.redfin.com/TX/Houston/2710-Drew-St-77004/home/178296257\", \"price\": \"415000.0\", \"bedrooms\": \"3.0\", \"bathrooms\": \"2.5\", \"sqft\": \"1840.0\", \"year_built\": \"2021.0\", \"address\": \"2710 Drew St\", \"state\": \"TX\", \"city\": \"Houston\", \"zip\": \"77004\", \"openHouse_st\": \"None\", \"openHouse_et\": \"None\", \"HOA/month\": \"None\", \"days_on_market\": \"46.0\", \"price_per_sqft\": \"226.0\", \"order\": \"5\", \"rank\": \"2\"}, {\"s_id\": \"21\", \"h_id\": \"7381594\", \"time_stamp\": \"2023-07-18 08:15:52\", \"url\": \"https://www.redfin.com/TX/Houston/2417-Rosewood-St-77004/home/29892328\", \"price\": \"325000.0\", \"bedrooms\": \"3.0\", \"bathrooms\": \"2.0\", \"sqft\": \"1146.0\", \"year_built\": \"1930.0\", \"address\": \"2417 Rosewood St\", \"state\": \"TX\", \"city\": \"Houston\", \"zip\": \"77004\", \"openHouse_st\": \"None\", \"openHouse_et\": \"None\", \"HOA/month\": \"None\", \"days_on_market\": \"12.0\", \"price_per_sqft\": \"284.0\", \"order\": \"6\", \"rank\": \"2\"}, {\"s_id\": \"21\", \"h_id\": \"402617\", \"time_stamp\": \"2023-07-18 08:15:52\", \"url\": \"https://www.redfin.com/TX/Houston/3512-Cobb-St-77004/home/145086479\", \"price\": \"475000.0\", \"bedrooms\": \"3.0\", \"bathrooms\": \"2.0\", \"sqft\": \"1534.0\", \"year_built\": \"2022.0\", \"address\": \"3512 Cobb St\", \"state\": \"TX\", \"city\": \"Houston\", \"zip\": \"77004\", \"openHouse_st\": \"None\", \"openHouse_et\": \"None\", \"HOA/month\": \"None\", \"days_on_market\": \"202.0\", \"price_per_sqft\": \"310.0\", \"order\": \"7\", \"rank\": \"2\"}, {\"s_id\": \"21\", \"h_id\": \"402545\", \"time_stamp\": \"2023-07-18 08:15:52\", \"url\": \"https://www.redfin.com/TX/Houston/2617-Live-Oak-St-77004/home/170676313\", \"price\": \"409000.0\", \"bedrooms\": \"3.0\", \"bathrooms\": \"2.5\", \"sqft\": \"1890.0\", \"year_built\": \"2019.0\", \"address\": \"2617 Live Oak St\", \"state\": \"TX\", \"city\": \"Houston\", \"zip\": \"77004\", \"openHouse_st\": \"None\", \"openHouse_et\": \"None\", \"HOA/month\": \"None\", \"days_on_market\": \"61.0\", \"price_per_sqft\": \"216.0\", \"order\": \"8\", \"rank\": \"2\"}, {\"s_id\": \"21\", \"h_id\": \"402526\", \"time_stamp\": \"2023-07-18 08:15:52\", \"url\": \"https://www.redfin.com/TX/Houston/2224-McGowen-St-77004/home/144606396\", \"price\": \"430000.0\", \"bedrooms\": \"3.0\", \"bathrooms\": \"3.5\", \"sqft\": \"1897.0\", \"year_built\": \"2019.0\", \"address\": \"2224 Mcgowen St\", \"state\": \"TX\", \"city\": \"Houston\", \"zip\": \"77004\", \"openHouse_st\": \"None\", \"openHouse_et\": \"None\", \"HOA/month\": \"175.0\", \"days_on_market\": \"49.0\", \"price_per_sqft\": \"227.0\", \"order\": \"9\", \"rank\": \"2\"}, {\"s_id\": \"21\", \"h_id\": \"402518\", \"time_stamp\": \"2023-07-18 08:15:52\", \"url\": \"https://www.redfin.com/TX/Houston/3422-Hadley-St-77004/home/29814119\", \"price\": \"290000.0\", \"bedrooms\": \"4.0\", \"bathrooms\": \"2.0\", \"sqft\": \"1284.0\", \"year_built\": \"1935.0\", \"address\": \"3418 and 3422 Hadley St\", \"state\": \"TX\", \"city\": \"Houston\", \"zip\": \"77004\", \"openHouse_st\": \"None\", \"openHouse_et\": \"None\", \"HOA/month\": \"None\", \"days_on_market\": \"45.0\", \"price_per_sqft\": \"226.0\", \"order\": \"10\", \"rank\": \"2\"}, {\"s_id\": \"21\", \"h_id\": \"402504\", \"time_stamp\": \"2023-07-18 08:15:52\", \"url\": \"https://www.redfin.com/TX/Houston/1400-Dennis-St-77004/home/30709164\", \"price\": \"399999.0\", \"bedrooms\": \"4.0\", \"bathrooms\": \"2.0\", \"sqft\": \"1592.0\", \"year_built\": \"2000.0\", \"address\": \"1400 Dennis St\", \"state\": \"TX\", \"city\": \"Houston\", \"zip\": \"77004\", \"openHouse_st\": \"2023-07-22 11:00:00\", \"openHouse_et\": \"2023-07-22 13:00:00\", \"HOA/month\": \"71.0\", \"days_on_market\": \"35.0\", \"price_per_sqft\": \"251.0\", \"order\": \"11\", \"rank\": \"2\"}, {\"s_id\": \"21\", \"h_id\": \"402557\", \"time_stamp\": \"2023-07-18 08:15:52\", \"url\": \"https://www.redfin.com/TX/Houston/4367-Varsity-Ln-77004/home/29963651\", \"price\": \"399900.0\", \"bedrooms\": \"4.0\", \"bathrooms\": \"3.0\", \"sqft\": \"1974.0\", \"year_built\": \"1946.0\", \"address\": \"4367 Varsity Ln\", \"state\": \"TX\", \"city\": \"Houston\", \"zip\": \"77004\", \"openHouse_st\": \"None\", \"openHouse_et\": \"None\", \"HOA/month\": \"18.0\", \"days_on_market\": \"70.0\", \"price_per_sqft\": \"203.0\", \"order\": \"12\", \"rank\": \"2\"}, {\"s_id\": \"21\", \"h_id\": \"7869028\", \"time_stamp\": \"2023-07-18 08:15:52\", \"url\": \"https://www.redfin.com/TX/Houston/2002-Blodgett-St-77004/home/29546280\", \"price\": \"425000.0\", \"bedrooms\": \"3.0\", \"bathrooms\": \"3.0\", \"sqft\": \"2139.0\", \"year_built\": \"2008.0\", \"address\": \"2002 Blodgett St\", \"state\": \"TX\", \"city\": \"Houston\", \"zip\": \"77004\", \"openHouse_st\": \"None\", \"openHouse_et\": \"None\", \"HOA/month\": \"25.0\", \"days_on_market\": \"11.0\", \"price_per_sqft\": \"199.0\", \"order\": \"13\", \"rank\": \"2\"}, {\"s_id\": \"21\", \"h_id\": \"402558\", \"time_stamp\": \"2023-07-18 08:15:52\", \"url\": \"https://www.redfin.com/TX/Houston/1411-Wheeler-St-77004/home/29808471\", \"price\": \"324900.0\", \"bedrooms\": \"3.0\", \"bathrooms\": \"1.5\", \"sqft\": \"1172.0\", \"year_built\": \"1965.0\", \"address\": \"1411 Wheeler St\", \"state\": \"TX\", \"city\": \"Houston\", \"zip\": \"77004\", \"openHouse_st\": \"None\", \"openHouse_et\": \"None\", \"HOA/month\": \"None\", \"days_on_market\": \"70.0\", \"price_per_sqft\": \"277.0\", \"order\": \"14\", \"rank\": \"2\"}, {\"s_id\": \"20\", \"h_id\": \"402599\", \"time_stamp\": \"2023-07-18 08:15:52\", \"url\": \"https://www.redfin.com/TX/Houston/2800-Holman-St-77004/home/29694745\", \"price\": \"315000.0\", \"bedrooms\": \"3.0\", \"bathrooms\": \"3.0\", \"sqft\": \"1327.0\", \"year_built\": \"1936.0\", \"address\": \"2800 Holman St\", \"state\": \"TX\", \"city\": \"Houston\", \"zip\": \"77004\", \"openHouse_st\": \"None\", \"openHouse_et\": \"None\", \"HOA/month\": \"None\", \"days_on_market\": \"131.0\", \"price_per_sqft\": \"237.0\", \"order\": \"0\", \"rank\": \"3\"}, {\"s_id\": \"20\", \"h_id\": \"402572\", \"time_stamp\": \"2023-07-18 08:15:52\", \"url\": \"https://www.redfin.com/TX/Houston/3230-Berry-St-77004/unit-4/home/177661759\", \"price\": \"417000.0\", \"bedrooms\": \"3.0\", \"bathrooms\": \"2.5\", \"sqft\": \"1350.0\", \"year_built\": \"2022.0\", \"address\": \"3230 Berry St #4\", \"state\": \"TX\", \"city\": \"Houston\", \"zip\": \"77004\", \"openHouse_st\": \"None\", \"openHouse_et\": \"None\", \"HOA/month\": \"None\", \"days_on_market\": \"81.0\", \"price_per_sqft\": \"309.0\", \"order\": \"1\", \"rank\": \"3\"}, {\"s_id\": \"20\", \"h_id\": \"402518\", \"time_stamp\": \"2023-07-18 08:15:52\", \"url\": \"https://www.redfin.com/TX/Houston/3422-Hadley-St-77004/home/29814119\", \"price\": \"290000.0\", \"bedrooms\": \"4.0\", \"bathrooms\": \"2.0\", \"sqft\": \"1284.0\", \"year_built\": \"1935.0\", \"address\": \"3418 and 3422 Hadley St\", \"state\": \"TX\", \"city\": \"Houston\", \"zip\": \"77004\", \"openHouse_st\": \"None\", \"openHouse_et\": \"None\", \"HOA/month\": \"None\", \"days_on_market\": \"45.0\", \"price_per_sqft\": \"226.0\", \"order\": \"2\", \"rank\": \"3\"}, {\"s_id\": \"20\", \"h_id\": \"402509\", \"time_stamp\": \"2023-07-18 08:15:52\", \"url\": \"https://www.redfin.com/TX/Houston/3344-Francis-St-77004/home/176480840\", \"price\": \"389000.0\", \"bedrooms\": \"3.0\", \"bathrooms\": \"2.5\", \"sqft\": \"1628.0\", \"year_built\": \"2022.0\", \"address\": \"3344 Francis St\", \"state\": \"TX\", \"city\": \"Houston\", \"zip\": \"77004\", \"openHouse_st\": \"None\", \"openHouse_et\": \"None\", \"HOA/month\": \"None\", \"days_on_market\": \"38.0\", \"price_per_sqft\": \"239.0\", \"order\": \"3\", \"rank\": \"3\"}, {\"s_id\": \"20\", \"h_id\": \"402494\", \"time_stamp\": \"2023-07-18 08:15:52\", \"url\": \"https://www.redfin.com/TX/Houston/3120-Wichita-St-77004/home/29912221\", \"price\": \"405000.0\", \"bedrooms\": \"3.0\", \"bathrooms\": \"3.0\", \"sqft\": \"1786.0\", \"year_built\": \"1950.0\", \"address\": \"3120 Wichita St\", \"state\": \"TX\", \"city\": \"Houston\", \"zip\": \"77004\", \"openHouse_st\": \"None\", \"openHouse_et\": \"None\", \"HOA/month\": \"None\", \"days_on_market\": \"27.0\", \"price_per_sqft\": \"227.0\", \"order\": \"4\", \"rank\": \"3\"}, {\"s_id\": \"20\", \"h_id\": \"402504\", \"time_stamp\": \"2023-07-18 08:15:52\", \"url\": \"https://www.redfin.com/TX/Houston/1400-Dennis-St-77004/home/30709164\", \"price\": \"399999.0\", \"bedrooms\": \"4.0\", \"bathrooms\": \"2.0\", \"sqft\": \"1592.0\", \"year_built\": \"2000.0\", \"address\": \"1400 Dennis St\", \"state\": \"TX\", \"city\": \"Houston\", \"zip\": \"77004\", \"openHouse_st\": \"2023-07-22 11:00:00\", \"openHouse_et\": \"2023-07-22 13:00:00\", \"HOA/month\": \"71.0\", \"days_on_market\": \"35.0\", \"price_per_sqft\": \"251.0\", \"order\": \"5\", \"rank\": \"3\"}, {\"s_id\": \"20\", \"h_id\": \"402557\", \"time_stamp\": \"2023-07-18 08:15:52\", \"url\": \"https://www.redfin.com/TX/Houston/4367-Varsity-Ln-77004/home/29963651\", \"price\": \"399900.0\", \"bedrooms\": \"4.0\", \"bathrooms\": \"3.0\", \"sqft\": \"1974.0\", \"year_built\": \"1946.0\", \"address\": \"4367 Varsity Ln\", \"state\": \"TX\", \"city\": \"Houston\", \"zip\": \"77004\", \"openHouse_st\": \"None\", \"openHouse_et\": \"None\", \"HOA/month\": \"18.0\", \"days_on_market\": \"70.0\", \"price_per_sqft\": \"203.0\", \"order\": \"6\", \"rank\": \"3\"}, {\"s_id\": \"20\", \"h_id\": \"402576\", \"time_stamp\": \"2023-07-18 08:15:52\", \"url\": \"https://www.redfin.com/TX/Houston/1410-Rosewood-St-77004/home/29808435\", \"price\": \"439000.0\", \"bedrooms\": \"3.0\", \"bathrooms\": \"2.0\", \"sqft\": \"1439.0\", \"year_built\": \"1929.0\", \"address\": \"1410 Rosewood St\", \"state\": \"TX\", \"city\": \"Houston\", \"zip\": \"77004\", \"openHouse_st\": \"None\", \"openHouse_et\": \"None\", \"HOA/month\": \"None\", \"days_on_market\": \"82.0\", \"price_per_sqft\": \"305.0\", \"order\": \"7\", \"rank\": \"3\"}, {\"s_id\": \"20\", \"h_id\": \"402363\", \"time_stamp\": \"2023-07-18 08:15:52\", \"url\": \"https://www.redfin.com/TX/Houston/2710-Drew-St-77004/home/178296257\", \"price\": \"415000.0\", \"bedrooms\": \"3.0\", \"bathrooms\": \"2.5\", \"sqft\": \"1840.0\", \"year_built\": \"2021.0\", \"address\": \"2710 Drew St\", \"state\": \"TX\", \"city\": \"Houston\", \"zip\": \"77004\", \"openHouse_st\": \"None\", \"openHouse_et\": \"None\", \"HOA/month\": \"None\", \"days_on_market\": \"46.0\", \"price_per_sqft\": \"226.0\", \"order\": \"8\", \"rank\": \"3\"}, {\"s_id\": \"20\", \"h_id\": \"7381594\", \"time_stamp\": \"2023-07-18 08:15:52\", \"url\": \"https://www.redfin.com/TX/Houston/2417-Rosewood-St-77004/home/29892328\", \"price\": \"325000.0\", \"bedrooms\": \"3.0\", \"bathrooms\": \"2.0\", \"sqft\": \"1146.0\", \"year_built\": \"1930.0\", \"address\": \"2417 Rosewood St\", \"state\": \"TX\", \"city\": \"Houston\", \"zip\": \"77004\", \"openHouse_st\": \"None\", \"openHouse_et\": \"None\", \"HOA/month\": \"None\", \"days_on_market\": \"12.0\", \"price_per_sqft\": \"284.0\", \"order\": \"9\", \"rank\": \"3\"}, {\"s_id\": \"20\", \"h_id\": \"402617\", \"time_stamp\": \"2023-07-18 08:15:52\", \"url\": \"https://www.redfin.com/TX/Houston/3512-Cobb-St-77004/home/145086479\", \"price\": \"475000.0\", \"bedrooms\": \"3.0\", \"bathrooms\": \"2.0\", \"sqft\": \"1534.0\", \"year_built\": \"2022.0\", \"address\": \"3512 Cobb St\", \"state\": \"TX\", \"city\": \"Houston\", \"zip\": \"77004\", \"openHouse_st\": \"None\", \"openHouse_et\": \"None\", \"HOA/month\": \"None\", \"days_on_market\": \"202.0\", \"price_per_sqft\": \"310.0\", \"order\": \"10\", \"rank\": \"3\"}, {\"s_id\": \"20\", \"h_id\": \"7381591\", \"time_stamp\": \"2023-07-14 17:04:22\", \"url\": \"https://www.redfin.com/TX/Houston/3837-Palm-St-77004/home/29969315\", \"price\": \"325000.0\", \"bedrooms\": \"4.0\", \"bathrooms\": \"2.0\", \"sqft\": \"1833.0\", \"year_built\": \"1963.0\", \"address\": \"3837 Palm St\", \"state\": \"TX\", \"city\": \"Houston\", \"zip\": \"77004\", \"openHouse_st\": \"None\", \"openHouse_et\": \"None\", \"HOA/month\": \"None\", \"days_on_market\": \"8.0\", \"price_per_sqft\": \"177.0\", \"order\": \"11\", \"rank\": \"3\"}, {\"s_id\": \"20\", \"h_id\": \"402545\", \"time_stamp\": \"2023-07-18 08:15:52\", \"url\": \"https://www.redfin.com/TX/Houston/2617-Live-Oak-St-77004/home/170676313\", \"price\": \"409000.0\", \"bedrooms\": \"3.0\", \"bathrooms\": \"2.5\", \"sqft\": \"1890.0\", \"year_built\": \"2019.0\", \"address\": \"2617 Live Oak St\", \"state\": \"TX\", \"city\": \"Houston\", \"zip\": \"77004\", \"openHouse_st\": \"None\", \"openHouse_et\": \"None\", \"HOA/month\": \"None\", \"days_on_market\": \"61.0\", \"price_per_sqft\": \"216.0\", \"order\": \"12\", \"rank\": \"3\"}, {\"s_id\": \"20\", \"h_id\": \"402526\", \"time_stamp\": \"2023-07-18 08:15:52\", \"url\": \"https://www.redfin.com/TX/Houston/2224-McGowen-St-77004/home/144606396\", \"price\": \"430000.0\", \"bedrooms\": \"3.0\", \"bathrooms\": \"3.5\", \"sqft\": \"1897.0\", \"year_built\": \"2019.0\", \"address\": \"2224 Mcgowen St\", \"state\": \"TX\", \"city\": \"Houston\", \"zip\": \"77004\", \"openHouse_st\": \"None\", \"openHouse_et\": \"None\", \"HOA/month\": \"175.0\", \"days_on_market\": \"49.0\", \"price_per_sqft\": \"227.0\", \"order\": \"13\", \"rank\": \"3\"}, {\"s_id\": \"20\", \"h_id\": \"402587\", \"time_stamp\": \"2023-07-18 08:15:52\", \"url\": \"https://www.redfin.com/TX/Houston/2618-Truxillo-St-77004/home/29893591\", \"price\": \"344900.0\", \"bedrooms\": \"4.0\", \"bathrooms\": \"2.0\", \"sqft\": \"2046.0\", \"year_built\": \"1930.0\", \"address\": \"2618 Truxillo St\", \"state\": \"TX\", \"city\": \"Houston\", \"zip\": \"77004\", \"openHouse_st\": \"None\", \"openHouse_et\": \"None\", \"HOA/month\": \"None\", \"days_on_market\": \"97.0\", \"price_per_sqft\": \"169.0\", \"order\": \"14\", \"rank\": \"3\"}, {\"s_id\": \"19\", \"h_id\": \"402526\", \"time_stamp\": \"2023-07-18 08:15:52\", \"url\": \"https://www.redfin.com/TX/Houston/2224-McGowen-St-77004/home/144606396\", \"price\": \"430000.0\", \"bedrooms\": \"3.0\", \"bathrooms\": \"3.5\", \"sqft\": \"1897.0\", \"year_built\": \"2019.0\", \"address\": \"2224 Mcgowen St\", \"state\": \"TX\", \"city\": \"Houston\", \"zip\": \"77004\", \"openHouse_st\": \"None\", \"openHouse_et\": \"None\", \"HOA/month\": \"175.0\", \"days_on_market\": \"49.0\", \"price_per_sqft\": \"227.0\", \"order\": \"0\", \"rank\": \"4\"}, {\"s_id\": \"19\", \"h_id\": \"402494\", \"time_stamp\": \"2023-07-18 08:15:52\", \"url\": \"https://www.redfin.com/TX/Houston/3120-Wichita-St-77004/home/29912221\", \"price\": \"405000.0\", \"bedrooms\": \"3.0\", \"bathrooms\": \"3.0\", \"sqft\": \"1786.0\", \"year_built\": \"1950.0\", \"address\": \"3120 Wichita St\", \"state\": \"TX\", \"city\": \"Houston\", \"zip\": \"77004\", \"openHouse_st\": \"None\", \"openHouse_et\": \"None\", \"HOA/month\": \"None\", \"days_on_market\": \"27.0\", \"price_per_sqft\": \"227.0\", \"order\": \"1\", \"rank\": \"4\"}, {\"s_id\": \"19\", \"h_id\": \"7869028\", \"time_stamp\": \"2023-07-18 08:15:52\", \"url\": \"https://www.redfin.com/TX/Houston/2002-Blodgett-St-77004/home/29546280\", \"price\": \"425000.0\", \"bedrooms\": \"3.0\", \"bathrooms\": \"3.0\", \"sqft\": \"2139.0\", \"year_built\": \"2008.0\", \"address\": \"2002 Blodgett St\", \"state\": \"TX\", \"city\": \"Houston\", \"zip\": \"77004\", \"openHouse_st\": \"None\", \"openHouse_et\": \"None\", \"HOA/month\": \"25.0\", \"days_on_market\": \"11.0\", \"price_per_sqft\": \"199.0\", \"order\": \"2\", \"rank\": \"4\"}, {\"s_id\": \"19\", \"h_id\": \"402599\", \"time_stamp\": \"2023-07-18 08:15:52\", \"url\": \"https://www.redfin.com/TX/Houston/2800-Holman-St-77004/home/29694745\", \"price\": \"315000.0\", \"bedrooms\": \"3.0\", \"bathrooms\": \"3.0\", \"sqft\": \"1327.0\", \"year_built\": \"1936.0\", \"address\": \"2800 Holman St\", \"state\": \"TX\", \"city\": \"Houston\", \"zip\": \"77004\", \"openHouse_st\": \"None\", \"openHouse_et\": \"None\", \"HOA/month\": \"None\", \"days_on_market\": \"131.0\", \"price_per_sqft\": \"237.0\", \"order\": \"3\", \"rank\": \"4\"}, {\"s_id\": \"19\", \"h_id\": \"402559\", \"time_stamp\": \"2023-07-18 08:15:52\", \"url\": \"https://www.redfin.com/TX/Houston/2104-Holman-St-77004/unit-C/home/29593159\", \"price\": \"415000.0\", \"bedrooms\": \"3.0\", \"bathrooms\": \"3.5\", \"sqft\": \"2244.0\", \"year_built\": \"2008.0\", \"address\": \"2104 Holman St Unit C\", \"state\": \"TX\", \"city\": \"Houston\", \"zip\": \"77004\", \"openHouse_st\": \"None\", \"openHouse_et\": \"None\", \"HOA/month\": \"None\", \"days_on_market\": \"71.0\", \"price_per_sqft\": \"185.0\", \"order\": \"4\", \"rank\": \"4\"}, {\"s_id\": \"19\", \"h_id\": \"402557\", \"time_stamp\": \"2023-07-18 08:15:52\", \"url\": \"https://www.redfin.com/TX/Houston/4367-Varsity-Ln-77004/home/29963651\", \"price\": \"399900.0\", \"bedrooms\": \"4.0\", \"bathrooms\": \"3.0\", \"sqft\": \"1974.0\", \"year_built\": \"1946.0\", \"address\": \"4367 Varsity Ln\", \"state\": \"TX\", \"city\": \"Houston\", \"zip\": \"77004\", \"openHouse_st\": \"None\", \"openHouse_et\": \"None\", \"HOA/month\": \"18.0\", \"days_on_market\": \"70.0\", \"price_per_sqft\": \"203.0\", \"order\": \"5\", \"rank\": \"4\"}, {\"s_id\": \"19\", \"h_id\": \"402363\", \"time_stamp\": \"2023-07-18 08:15:52\", \"url\": \"https://www.redfin.com/TX/Houston/2710-Drew-St-77004/home/178296257\", \"price\": \"415000.0\", \"bedrooms\": \"3.0\", \"bathrooms\": \"2.5\", \"sqft\": \"1840.0\", \"year_built\": \"2021.0\", \"address\": \"2710 Drew St\", \"state\": \"TX\", \"city\": \"Houston\", \"zip\": \"77004\", \"openHouse_st\": \"None\", \"openHouse_et\": \"None\", \"HOA/month\": \"None\", \"days_on_market\": \"46.0\", \"price_per_sqft\": \"226.0\", \"order\": \"6\", \"rank\": \"4\"}, {\"s_id\": \"19\", \"h_id\": \"402509\", \"time_stamp\": \"2023-07-18 08:15:52\", \"url\": \"https://www.redfin.com/TX/Houston/3344-Francis-St-77004/home/176480840\", \"price\": \"389000.0\", \"bedrooms\": \"3.0\", \"bathrooms\": \"2.5\", \"sqft\": \"1628.0\", \"year_built\": \"2022.0\", \"address\": \"3344 Francis St\", \"state\": \"TX\", \"city\": \"Houston\", \"zip\": \"77004\", \"openHouse_st\": \"None\", \"openHouse_et\": \"None\", \"HOA/month\": \"None\", \"days_on_market\": \"38.0\", \"price_per_sqft\": \"239.0\", \"order\": \"7\", \"rank\": \"4\"}, {\"s_id\": \"19\", \"h_id\": \"402545\", \"time_stamp\": \"2023-07-18 08:15:52\", \"url\": \"https://www.redfin.com/TX/Houston/2617-Live-Oak-St-77004/home/170676313\", \"price\": \"409000.0\", \"bedrooms\": \"3.0\", \"bathrooms\": \"2.5\", \"sqft\": \"1890.0\", \"year_built\": \"2019.0\", \"address\": \"2617 Live Oak St\", \"state\": \"TX\", \"city\": \"Houston\", \"zip\": \"77004\", \"openHouse_st\": \"None\", \"openHouse_et\": \"None\", \"HOA/month\": \"None\", \"days_on_market\": \"61.0\", \"price_per_sqft\": \"216.0\", \"order\": \"8\", \"rank\": \"4\"}, {\"s_id\": \"19\", \"h_id\": \"402501\", \"time_stamp\": \"2023-07-18 08:15:52\", \"url\": \"https://www.redfin.com/TX/Houston/4909-La-Branch-St-77004/home/29328895\", \"price\": \"475000.0\", \"bedrooms\": \"3.0\", \"bathrooms\": \"3.5\", \"sqft\": \"2415.0\", \"year_built\": \"2005.0\", \"address\": \"4909 La Branch St\", \"state\": \"TX\", \"city\": \"Houston\", \"zip\": \"77004\", \"openHouse_st\": \"None\", \"openHouse_et\": \"None\", \"HOA/month\": \"208.0\", \"days_on_market\": \"33.0\", \"price_per_sqft\": \"197.0\", \"order\": \"9\", \"rank\": \"4\"}, {\"s_id\": \"19\", \"h_id\": \"402572\", \"time_stamp\": \"2023-07-18 08:15:52\", \"url\": \"https://www.redfin.com/TX/Houston/3230-Berry-St-77004/unit-4/home/177661759\", \"price\": \"417000.0\", \"bedrooms\": \"3.0\", \"bathrooms\": \"2.5\", \"sqft\": \"1350.0\", \"year_built\": \"2022.0\", \"address\": \"3230 Berry St #4\", \"state\": \"TX\", \"city\": \"Houston\", \"zip\": \"77004\", \"openHouse_st\": \"None\", \"openHouse_et\": \"None\", \"HOA/month\": \"None\", \"days_on_market\": \"81.0\", \"price_per_sqft\": \"309.0\", \"order\": \"10\", \"rank\": \"4\"}, {\"s_id\": \"19\", \"h_id\": \"7381596\", \"time_stamp\": \"2023-07-18 08:15:52\", \"url\": \"https://www.redfin.com/TX/Houston/2616-Rosewood-St-77004/home/29893708\", \"price\": \"479999.0\", \"bedrooms\": \"3.0\", \"bathrooms\": \"2.5\", \"sqft\": \"2268.0\", \"year_built\": \"1942.0\", \"address\": \"2616 Rosewood St\", \"state\": \"TX\", \"city\": \"Houston\", \"zip\": \"77004\", \"openHouse_st\": \"2023-07-22 11:00:00\", \"openHouse_et\": \"2023-07-22 14:00:00\", \"HOA/month\": \"None\", \"days_on_market\": \"12.0\", \"price_per_sqft\": \"212.0\", \"order\": \"11\", \"rank\": \"4\"}, {\"s_id\": \"19\", \"h_id\": \"7869024\", \"time_stamp\": \"2023-07-18 08:15:52\", \"url\": \"https://www.redfin.com/TX/Houston/4903-La-Branch-St-77004/home/29328896\", \"price\": \"495000.0\", \"bedrooms\": \"3.0\", \"bathrooms\": \"3.5\", \"sqft\": \"2525.0\", \"year_built\": \"2005.0\", \"address\": \"4903 La Branch St\", \"state\": \"TX\", \"city\": \"Houston\", \"zip\": \"77004\", \"openHouse_st\": \"None\", \"openHouse_et\": \"None\", \"HOA/month\": \"208.0\", \"days_on_market\": \"10.0\", \"price_per_sqft\": \"196.0\", \"order\": \"12\", \"rank\": \"4\"}, {\"s_id\": \"19\", \"h_id\": \"402570\", \"time_stamp\": \"2023-07-18 08:15:52\", \"url\": \"https://www.redfin.com/TX/Houston/1501-Cleburne-St-77004/home/29568506\", \"price\": \"485000.0\", \"bedrooms\": \"3.0\", \"bathrooms\": \"3.5\", \"sqft\": \"2532.0\", \"year_built\": \"2007.0\", \"address\": \"1501 Cleburne St\", \"state\": \"TX\", \"city\": \"Houston\", \"zip\": \"77004\", \"openHouse_st\": \"None\", \"openHouse_et\": \"None\", \"HOA/month\": \"None\", \"days_on_market\": \"78.0\", \"price_per_sqft\": \"192.0\", \"order\": \"13\", \"rank\": \"4\"}, {\"s_id\": \"19\", \"h_id\": \"402624\", \"time_stamp\": \"2023-07-18 08:15:52\", \"url\": \"https://www.redfin.com/TX/Houston/3505-Hutchins-St-77004/home/112824191\", \"price\": \"449000.0\", \"bedrooms\": \"3.0\", \"bathrooms\": \"3.5\", \"sqft\": \"2547.0\", \"year_built\": \"2015.0\", \"address\": \"3505 Hutchins St\", \"state\": \"TX\", \"city\": \"Houston\", \"zip\": \"77004\", \"openHouse_st\": \"None\", \"openHouse_et\": \"None\", \"HOA/month\": \"None\", \"days_on_market\": \"311.0\", \"price_per_sqft\": \"176.0\", \"order\": \"14\", \"rank\": \"4\"}, {\"s_id\": \"18\", \"h_id\": \"402553\", \"time_stamp\": \"2023-07-18 08:15:52\", \"url\": \"https://www.redfin.com/TX/Houston/2414-Truxillo-St-77004/home/110186943\", \"price\": \"499997.0\", \"bedrooms\": \"3.0\", \"bathrooms\": \"2.5\", \"sqft\": \"2575.0\", \"year_built\": \"2015.0\", \"address\": \"2414 Truxillo St\", \"state\": \"TX\", \"city\": \"Houston\", \"zip\": \"77004\", \"openHouse_st\": \"None\", \"openHouse_et\": \"None\", \"HOA/month\": \"None\", \"days_on_market\": \"67.0\", \"price_per_sqft\": \"194.0\", \"order\": \"0\", \"rank\": \"5\"}, {\"s_id\": \"18\", \"h_id\": \"402488\", \"time_stamp\": \"2023-07-18 08:15:52\", \"url\": \"https://www.redfin.com/TX/Houston/3332-Southmore-Blvd-77004/home/29897568\", \"price\": \"420000.0\", \"bedrooms\": \"3.0\", \"bathrooms\": \"2.5\", \"sqft\": \"2460.0\", \"year_built\": \"1946.0\", \"address\": \"3332 Southmore Blvd\", \"state\": \"TX\", \"city\": \"Houston\", \"zip\": \"77004\", \"openHouse_st\": \"None\", \"openHouse_et\": \"None\", \"HOA/month\": \"None\", \"days_on_market\": \"25.0\", \"price_per_sqft\": \"171.0\", \"order\": \"1\", \"rank\": \"5\"}, {\"s_id\": \"18\", \"h_id\": \"7381596\", \"time_stamp\": \"2023-07-18 08:15:52\", \"url\": \"https://www.redfin.com/TX/Houston/2616-Rosewood-St-77004/home/29893708\", \"price\": \"479999.0\", \"bedrooms\": \"3.0\", \"bathrooms\": \"2.5\", \"sqft\": \"2268.0\", \"year_built\": \"1942.0\", \"address\": \"2616 Rosewood St\", \"state\": \"TX\", \"city\": \"Houston\", \"zip\": \"77004\", \"openHouse_st\": \"2023-07-22 11:00:00\", \"openHouse_et\": \"2023-07-22 14:00:00\", \"HOA/month\": \"None\", \"days_on_market\": \"12.0\", \"price_per_sqft\": \"212.0\", \"order\": \"2\", \"rank\": \"5\"}, {\"s_id\": \"18\", \"h_id\": \"7381592\", \"time_stamp\": \"2023-07-18 08:15:52\", \"url\": \"https://www.redfin.com/TX/Houston/4711-San-Jacinto-St-77004/home/29594927\", \"price\": \"475000.0\", \"bedrooms\": \"3.0\", \"bathrooms\": \"3.0\", \"sqft\": \"2742.0\", \"year_built\": \"2007.0\", \"address\": \"4711 San Jacinto St\", \"state\": \"TX\", \"city\": \"Houston\", \"zip\": \"77004\", \"openHouse_st\": \"None\", \"openHouse_et\": \"None\", \"HOA/month\": \"320.0\", \"days_on_market\": \"12.0\", \"price_per_sqft\": \"173.0\", \"order\": \"3\", \"rank\": \"5\"}, {\"s_id\": \"18\", \"h_id\": \"7869028\", \"time_stamp\": \"2023-07-18 08:15:52\", \"url\": \"https://www.redfin.com/TX/Houston/2002-Blodgett-St-77004/home/29546280\", \"price\": \"425000.0\", \"bedrooms\": \"3.0\", \"bathrooms\": \"3.0\", \"sqft\": \"2139.0\", \"year_built\": \"2008.0\", \"address\": \"2002 Blodgett St\", \"state\": \"TX\", \"city\": \"Houston\", \"zip\": \"77004\", \"openHouse_st\": \"None\", \"openHouse_et\": \"None\", \"HOA/month\": \"25.0\", \"days_on_market\": \"11.0\", \"price_per_sqft\": \"199.0\", \"order\": \"4\", \"rank\": \"5\"}, {\"s_id\": \"18\", \"h_id\": \"402570\", \"time_stamp\": \"2023-07-18 08:15:52\", \"url\": \"https://www.redfin.com/TX/Houston/1501-Cleburne-St-77004/home/29568506\", \"price\": \"485000.0\", \"bedrooms\": \"3.0\", \"bathrooms\": \"3.5\", \"sqft\": \"2532.0\", \"year_built\": \"2007.0\", \"address\": \"1501 Cleburne St\", \"state\": \"TX\", \"city\": \"Houston\", \"zip\": \"77004\", \"openHouse_st\": \"None\", \"openHouse_et\": \"None\", \"HOA/month\": \"None\", \"days_on_market\": \"78.0\", \"price_per_sqft\": \"192.0\", \"order\": \"5\", \"rank\": \"5\"}, {\"s_id\": \"18\", \"h_id\": \"7869024\", \"time_stamp\": \"2023-07-18 08:15:52\", \"url\": \"https://www.redfin.com/TX/Houston/4903-La-Branch-St-77004/home/29328896\", \"price\": \"495000.0\", \"bedrooms\": \"3.0\", \"bathrooms\": \"3.5\", \"sqft\": \"2525.0\", \"year_built\": \"2005.0\", \"address\": \"4903 La Branch St\", \"state\": \"TX\", \"city\": \"Houston\", \"zip\": \"77004\", \"openHouse_st\": \"None\", \"openHouse_et\": \"None\", \"HOA/month\": \"208.0\", \"days_on_market\": \"10.0\", \"price_per_sqft\": \"196.0\", \"order\": \"6\", \"rank\": \"5\"}, {\"s_id\": \"18\", \"h_id\": \"402624\", \"time_stamp\": \"2023-07-18 08:15:52\", \"url\": \"https://www.redfin.com/TX/Houston/3505-Hutchins-St-77004/home/112824191\", \"price\": \"449000.0\", \"bedrooms\": \"3.0\", \"bathrooms\": \"3.5\", \"sqft\": \"2547.0\", \"year_built\": \"2015.0\", \"address\": \"3505 Hutchins St\", \"state\": \"TX\", \"city\": \"Houston\", \"zip\": \"77004\", \"openHouse_st\": \"None\", \"openHouse_et\": \"None\", \"HOA/month\": \"None\", \"days_on_market\": \"311.0\", \"price_per_sqft\": \"176.0\", \"order\": \"7\", \"rank\": \"5\"}, {\"s_id\": \"18\", \"h_id\": \"10428741\", \"time_stamp\": \"2023-07-18 08:15:52\", \"url\": \"https://www.redfin.com/TX/Houston/3209-Holman-St-77004/home/29820199\", \"price\": \"344470.0\", \"bedrooms\": \"2.0\", \"bathrooms\": \"2.0\", \"sqft\": \"1872.0\", \"year_built\": \"1950.0\", \"address\": \"3209 Holman St\", \"state\": \"TX\", \"city\": \"Houston\", \"zip\": \"77004\", \"openHouse_st\": \"None\", \"openHouse_et\": \"None\", \"HOA/month\": \"None\", \"days_on_market\": \"6.0\", \"price_per_sqft\": \"184.0\", \"order\": \"8\", \"rank\": \"5\"}, {\"s_id\": \"18\", \"h_id\": \"402501\", \"time_stamp\": \"2023-07-18 08:15:52\", \"url\": \"https://www.redfin.com/TX/Houston/4909-La-Branch-St-77004/home/29328895\", \"price\": \"475000.0\", \"bedrooms\": \"3.0\", \"bathrooms\": \"3.5\", \"sqft\": \"2415.0\", \"year_built\": \"2005.0\", \"address\": \"4909 La Branch St\", \"state\": \"TX\", \"city\": \"Houston\", \"zip\": \"77004\", \"openHouse_st\": \"None\", \"openHouse_et\": \"None\", \"HOA/month\": \"208.0\", \"days_on_market\": \"33.0\", \"price_per_sqft\": \"197.0\", \"order\": \"9\", \"rank\": \"5\"}, {\"s_id\": \"18\", \"h_id\": \"402520\", \"time_stamp\": \"2023-07-18 08:15:52\", \"url\": \"https://www.redfin.com/TX/Houston/2010-Wentworth-St-77004/home/29889583\", \"price\": \"445000.0\", \"bedrooms\": \"3.0\", \"bathrooms\": \"1.5\", \"sqft\": \"2292.0\", \"year_built\": \"1938.0\", \"address\": \"2010 Wentworth St\", \"state\": \"TX\", \"city\": \"Houston\", \"zip\": \"77004\", \"openHouse_st\": \"None\", \"openHouse_et\": \"None\", \"HOA/month\": \"None\", \"days_on_market\": \"46.0\", \"price_per_sqft\": \"194.0\", \"order\": \"10\", \"rank\": \"5\"}, {\"s_id\": \"18\", \"h_id\": \"402559\", \"time_stamp\": \"2023-07-18 08:15:52\", \"url\": \"https://www.redfin.com/TX/Houston/2104-Holman-St-77004/unit-C/home/29593159\", \"price\": \"415000.0\", \"bedrooms\": \"3.0\", \"bathrooms\": \"3.5\", \"sqft\": \"2244.0\", \"year_built\": \"2008.0\", \"address\": \"2104 Holman St Unit C\", \"state\": \"TX\", \"city\": \"Houston\", \"zip\": \"77004\", \"openHouse_st\": \"None\", \"openHouse_et\": \"None\", \"HOA/month\": \"None\", \"days_on_market\": \"71.0\", \"price_per_sqft\": \"185.0\", \"order\": \"11\", \"rank\": \"5\"}, {\"s_id\": \"18\", \"h_id\": \"402545\", \"time_stamp\": \"2023-07-18 08:15:52\", \"url\": \"https://www.redfin.com/TX/Houston/2617-Live-Oak-St-77004/home/170676313\", \"price\": \"409000.0\", \"bedrooms\": \"3.0\", \"bathrooms\": \"2.5\", \"sqft\": \"1890.0\", \"year_built\": \"2019.0\", \"address\": \"2617 Live Oak St\", \"state\": \"TX\", \"city\": \"Houston\", \"zip\": \"77004\", \"openHouse_st\": \"None\", \"openHouse_et\": \"None\", \"HOA/month\": \"None\", \"days_on_market\": \"61.0\", \"price_per_sqft\": \"216.0\", \"order\": \"12\", \"rank\": \"5\"}, {\"s_id\": \"18\", \"h_id\": \"402363\", \"time_stamp\": \"2023-07-18 08:15:52\", \"url\": \"https://www.redfin.com/TX/Houston/2710-Drew-St-77004/home/178296257\", \"price\": \"415000.0\", \"bedrooms\": \"3.0\", \"bathrooms\": \"2.5\", \"sqft\": \"1840.0\", \"year_built\": \"2021.0\", \"address\": \"2710 Drew St\", \"state\": \"TX\", \"city\": \"Houston\", \"zip\": \"77004\", \"openHouse_st\": \"None\", \"openHouse_et\": \"None\", \"HOA/month\": \"None\", \"days_on_market\": \"46.0\", \"price_per_sqft\": \"226.0\", \"order\": \"13\", \"rank\": \"5\"}, {\"s_id\": \"18\", \"h_id\": \"402568\", \"time_stamp\": \"2023-07-18 08:15:52\", \"url\": \"https://www.redfin.com/TX/Houston/3862-Wichita-St-77004/home/30176173\", \"price\": \"495000.0\", \"bedrooms\": \"4.0\", \"bathrooms\": \"2.5\", \"sqft\": \"2550.0\", \"year_built\": \"1977.0\", \"address\": \"3862 Wichita St\", \"state\": \"TX\", \"city\": \"Houston\", \"zip\": \"77004\", \"openHouse_st\": \"None\", \"openHouse_et\": \"None\", \"HOA/month\": \"None\", \"days_on_market\": \"76.0\", \"price_per_sqft\": \"194.0\", \"order\": \"14\", \"rank\": \"5\"}]}'"
      ]
     },
     "execution_count": 127,
     "metadata": {},
     "output_type": "execute_result"
    }
   ],
   "source": [
    "out.text"
   ]
  },
  {
   "cell_type": "code",
   "execution_count": 31,
   "metadata": {},
   "outputs": [],
   "source": [
    "claps=s.get(\"http://127.0.0.1:5000/data/claps\")"
   ]
  },
  {
   "cell_type": "code",
   "execution_count": 32,
   "metadata": {},
   "outputs": [
    {
     "data": {
      "text/plain": [
       "'{\"claps\":3,\"error\":null}\\n'"
      ]
     },
     "execution_count": 32,
     "metadata": {},
     "output_type": "execute_result"
    }
   ],
   "source": [
    "claps.text"
   ]
  },
  {
   "cell_type": "code",
   "execution_count": 2,
   "metadata": {},
   "outputs": [],
   "source": [
    "lst=[]\n",
    "for i in range(1,14):\n",
    "    lst.append(f\":value{i}\")"
   ]
  },
  {
   "cell_type": "code",
   "execution_count": 3,
   "metadata": {},
   "outputs": [
    {
     "data": {
      "text/plain": [
       "[':value1',\n",
       " ':value2',\n",
       " ':value3',\n",
       " ':value4',\n",
       " ':value5',\n",
       " ':value6',\n",
       " ':value7',\n",
       " ':value8',\n",
       " ':value9',\n",
       " ':value10',\n",
       " ':value11',\n",
       " ':value12',\n",
       " ':value13']"
      ]
     },
     "execution_count": 3,
     "metadata": {},
     "output_type": "execute_result"
    }
   ],
   "source": [
    "lst"
   ]
  },
  {
   "cell_type": "code",
   "execution_count": 24,
   "metadata": {},
   "outputs": [
    {
     "ename": "",
     "evalue": "",
     "output_type": "error",
     "traceback": [
      "\u001b[1;31mThe Kernel crashed while executing code in the the current cell or a previous cell. Please review the code in the cell(s) to identify a possible cause of the failure. Click <a href='https://aka.ms/vscodeJupyterKernelCrash'>here</a> for more info. View Jupyter <a href='command:jupyter.viewOutput'>log</a> for further details."
     ]
    }
   ],
   "source": [
    "with open(\"extra/sample_post.json\",'r') as f:\n",
    "    json_data=json.load(f)\n",
    "    \n",
    "\n",
    "\n",
    "response=s.post(\"http://127.0.0.1:5000/model/post\",json.dumps(json_data),headers)"
   ]
  },
  {
   "cell_type": "code",
   "execution_count": 12,
   "metadata": {},
   "outputs": [
    {
     "data": {
      "text/plain": [
       "'{\"error\": null, \"model\": \"FYH\", \"data\": [{\"id\": 402363, \"time_stamp\": 1689354262000, \"url\": \"https://www.redfin.com/TX/Houston/2710-Drew-St-77004/home/178296257\", \"price\": 42.0, \"bedrooms\": 3.0, \"bathrooms\": 2.5, \"sqft\": 1840.0, \"year_built\": 402363, \"address\": \"2710 Drew St\", \"state\": \"TX\", \"city\": \"Houston\", \"zip\": \"77004\", \"openHouse_st\": null, \"openHouse_et\": null, \"HOA/month\": null, \"days_on_market\": 42.0, \"price_per_sqft\": 226.0}, {\"id\": 402545, \"time_stamp\": 1689354262000, \"url\": \"https://www.redfin.com/TX/Houston/2617-Live-Oak-St-77004/home/170676313\", \"price\": 57.0, \"bedrooms\": 3.0, \"bathrooms\": 2.5, \"sqft\": 1890.0, \"year_built\": 402545, \"address\": \"2617 Live Oak St\", \"state\": \"TX\", \"city\": \"Houston\", \"zip\": \"77004\", \"openHouse_st\": null, \"openHouse_et\": null, \"HOA/month\": null, \"days_on_market\": 57.0, \"price_per_sqft\": 216.0}, {\"id\": 402509, \"time_stamp\": 1689354262000, \"url\": \"https://www.redfin.com/TX/Houston/3344-Francis-St-77004/home/176480840\", \"price\": 34.0, \"bedrooms\": 3.0, \"bathrooms\": 2.5, \"sqft\": 1628.0, \"year_built\": 402509, \"address\": \"3344 Francis St\", \"state\": \"TX\", \"city\": \"Houston\", \"zip\": \"77004\", \"openHouse_st\": null, \"openHouse_et\": null, \"HOA/month\": null, \"days_on_market\": 34.0, \"price_per_sqft\": 239.0}, {\"id\": 402494, \"time_stamp\": 1689354262000, \"url\": \"https://www.redfin.com/TX/Houston/3120-Wichita-St-77004/home/29912221\", \"price\": 23.0, \"bedrooms\": 3.0, \"bathrooms\": 3.0, \"sqft\": 1786.0, \"year_built\": 402494, \"address\": \"3120 Wichita St\", \"state\": \"TX\", \"city\": \"Houston\", \"zip\": \"77004\", \"openHouse_st\": null, \"openHouse_et\": null, \"HOA/month\": null, \"days_on_market\": 23.0, \"price_per_sqft\": 227.0}, {\"id\": 402617, \"time_stamp\": 1689354262000, \"url\": \"https://www.redfin.com/TX/Houston/3512-Cobb-St-77004/home/145086479\", \"price\": 198.0, \"bedrooms\": 3.0, \"bathrooms\": 2.0, \"sqft\": 1534.0, \"year_built\": 402617, \"address\": \"3512 Cobb St\", \"state\": \"TX\", \"city\": \"Houston\", \"zip\": \"77004\", \"openHouse_st\": null, \"openHouse_et\": null, \"HOA/month\": null, \"days_on_market\": 198.0, \"price_per_sqft\": 310.0}, {\"id\": 7869028, \"time_stamp\": 1689354262000, \"url\": \"https://www.redfin.com/TX/Houston/2002-Blodgett-St-77004/home/29546280\", \"price\": 7.0, \"bedrooms\": 3.0, \"bathrooms\": 3.0, \"sqft\": 2139.0, \"year_built\": 7869028, \"address\": \"2002 Blodgett St\", \"state\": \"TX\", \"city\": \"Houston\", \"zip\": \"77004\", \"openHouse_st\": null, \"openHouse_et\": null, \"HOA/month\": 25.0, \"days_on_market\": 7.0, \"price_per_sqft\": 199.0}, {\"id\": 7381596, \"time_stamp\": 1689354262000, \"url\": \"https://www.redfin.com/TX/Houston/2616-Rosewood-St-77004/home/29893708\", \"price\": 8.0, \"bedrooms\": 3.0, \"bathrooms\": 2.5, \"sqft\": 2268.0, \"year_built\": 7381596, \"address\": \"2616 Rosewood St\", \"state\": \"TX\", \"city\": \"Houston\", \"zip\": \"77004\", \"openHouse_st\": null, \"openHouse_et\": null, \"HOA/month\": null, \"days_on_market\": 8.0, \"price_per_sqft\": 220.0}, {\"id\": 402572, \"time_stamp\": 1689354262000, \"url\": \"https://www.redfin.com/TX/Houston/3230-Berry-St-77004/unit-4/home/177661759\", \"price\": 77.0, \"bedrooms\": 3.0, \"bathrooms\": 2.5, \"sqft\": 1350.0, \"year_built\": 402572, \"address\": \"3230 Berry St #4\", \"state\": \"TX\", \"city\": \"Houston\", \"zip\": \"77004\", \"openHouse_st\": null, \"openHouse_et\": null, \"HOA/month\": null, \"days_on_market\": 77.0, \"price_per_sqft\": 309.0}, {\"id\": 402576, \"time_stamp\": 1689354262000, \"url\": \"https://www.redfin.com/TX/Houston/1410-Rosewood-St-77004/home/29808435\", \"price\": 78.0, \"bedrooms\": 3.0, \"bathrooms\": 2.0, \"sqft\": 1439.0, \"year_built\": 402576, \"address\": \"1410 Rosewood St\", \"state\": \"TX\", \"city\": \"Houston\", \"zip\": \"77004\", \"openHouse_st\": null, \"openHouse_et\": null, \"HOA/month\": null, \"days_on_market\": 78.0, \"price_per_sqft\": 305.0}, {\"id\": 7381591, \"time_stamp\": 1689354262000, \"url\": \"https://www.redfin.com/TX/Houston/3837-Palm-St-77004/home/29969315\", \"price\": 8.0, \"bedrooms\": 4.0, \"bathrooms\": 2.0, \"sqft\": 1833.0, \"year_built\": 7381591, \"address\": \"3837 Palm St\", \"state\": \"TX\", \"city\": \"Houston\", \"zip\": \"77004\", \"openHouse_st\": null, \"openHouse_et\": null, \"HOA/month\": null, \"days_on_market\": 8.0, \"price_per_sqft\": 177.0}, {\"id\": 10428741, \"time_stamp\": 1689354262000, \"url\": \"https://www.redfin.com/TX/Houston/3209-Holman-St-77004/home/29820199\", \"price\": 2.0, \"bedrooms\": 2.0, \"bathrooms\": 2.0, \"sqft\": 1872.0, \"year_built\": 10428741, \"address\": \"3209 Holman St\", \"state\": \"TX\", \"city\": \"Houston\", \"zip\": \"77004\", \"openHouse_st\": null, \"openHouse_et\": null, \"HOA/month\": null, \"days_on_market\": 2.0, \"price_per_sqft\": 184.0}, {\"id\": 402557, \"time_stamp\": 1689354262000, \"url\": \"https://www.redfin.com/TX/Houston/4367-Varsity-Ln-77004/home/29963651\", \"price\": 66.0, \"bedrooms\": 4.0, \"bathrooms\": 3.0, \"sqft\": 1974.0, \"year_built\": 402557, \"address\": \"4367 Varsity Ln\", \"state\": \"TX\", \"city\": \"Houston\", \"zip\": \"77004\", \"openHouse_st\": null, \"openHouse_et\": null, \"HOA/month\": 18.0, \"days_on_market\": 66.0, \"price_per_sqft\": 203.0}, {\"id\": 402587, \"time_stamp\": 1689354262000, \"url\": \"https://www.redfin.com/TX/Houston/2618-Truxillo-St-77004/home/29893591\", \"price\": 93.0, \"bedrooms\": 4.0, \"bathrooms\": 2.0, \"sqft\": 2046.0, \"year_built\": 402587, \"address\": \"2618 Truxillo St\", \"state\": \"TX\", \"city\": \"Houston\", \"zip\": \"77004\", \"openHouse_st\": null, \"openHouse_et\": null, \"HOA/month\": null, \"days_on_market\": 93.0, \"price_per_sqft\": 169.0}, {\"id\": 402504, \"time_stamp\": 1689354262000, \"url\": \"https://www.redfin.com/TX/Houston/1400-Dennis-St-77004/home/30709164\", \"price\": 31.0, \"bedrooms\": 4.0, \"bathrooms\": 2.0, \"sqft\": 1592.0, \"year_built\": 402504, \"address\": \"1400 Dennis St\", \"state\": \"TX\", \"city\": \"Houston\", \"zip\": \"77004\", \"openHouse_st\": null, \"openHouse_et\": null, \"HOA/month\": 71.0, \"days_on_market\": 31.0, \"price_per_sqft\": 251.0}, {\"id\": 402526, \"time_stamp\": 1689354262000, \"url\": \"https://www.redfin.com/TX/Houston/2224-McGowen-St-77004/home/144606396\", \"price\": 45.0, \"bedrooms\": 3.0, \"bathrooms\": 3.5, \"sqft\": 1897.0, \"year_built\": 402526, \"address\": \"2224 Mcgowen St\", \"state\": \"TX\", \"city\": \"Houston\", \"zip\": \"77004\", \"openHouse_st\": null, \"openHouse_et\": null, \"HOA/month\": 175.0, \"days_on_market\": 45.0, \"price_per_sqft\": 227.0}]}'"
      ]
     },
     "execution_count": 12,
     "metadata": {},
     "output_type": "execute_result"
    }
   ],
   "source": [
    "response.text"
   ]
  },
  {
   "cell_type": "code",
   "execution_count": 23,
   "metadata": {},
   "outputs": [],
   "source": [
    "import pandas as pd\n",
    "ts=pd.to_datetime('now',utc=True).replace(microsecond=0)"
   ]
  },
  {
   "cell_type": "code",
   "execution_count": 28,
   "metadata": {},
   "outputs": [
    {
     "data": {
      "text/plain": [
       "'2023-07-11 23:25:42+00:00'"
      ]
     },
     "execution_count": 28,
     "metadata": {},
     "output_type": "execute_result"
    }
   ],
   "source": [
    "str(ts)"
   ]
  },
  {
   "cell_type": "code",
   "execution_count": 23,
   "metadata": {},
   "outputs": [
    {
     "data": {
      "text/plain": [
       "'{\"claps\": \"1\"}'"
      ]
     },
     "execution_count": 23,
     "metadata": {},
     "output_type": "execute_result"
    }
   ],
   "source": [
    "jsn=json.dumps({'claps':'1'})\n",
    "jsn"
   ]
  },
  {
   "cell_type": "code",
   "execution_count": 26,
   "metadata": {},
   "outputs": [
    {
     "data": {
      "text/plain": [
       "<Response [500]>"
      ]
     },
     "execution_count": 26,
     "metadata": {},
     "output_type": "execute_result"
    }
   ],
   "source": [
    "search_tests=s.get(\"http://127.0.0.1:5000/data/claps\") # WON'T POST THROUGH APP, BUT POST_CLAPS WORKS IN DBEAVER\n",
    "search_tests"
   ]
  },
  {
   "cell_type": "code",
   "execution_count": 54,
   "metadata": {},
   "outputs": [
    {
     "data": {
      "text/plain": [
       "'{\"error\": null}'"
      ]
     },
     "execution_count": 54,
     "metadata": {},
     "output_type": "execute_result"
    }
   ],
   "source": [
    "search_tests.text"
   ]
  },
  {
   "cell_type": "code",
   "execution_count": 5,
   "metadata": {},
   "outputs": [
    {
     "data": {
      "text/plain": [
       "'{\"username\": \"rsherby7@gmail.com\", \"password\": \"admin\"}'"
      ]
     },
     "execution_count": 5,
     "metadata": {},
     "output_type": "execute_result"
    }
   ],
   "source": [
    "json_post=json.dumps({'username':'rsherby7@gmail.com','password':'admin'})\n",
    "json_post"
   ]
  },
  {
   "cell_type": "code",
   "execution_count": null,
   "metadata": {},
   "outputs": [],
   "source": [
    "reg_res=s.post(\"http://127.0.0.1:5000/auth/register\",json_post,headers=headers)\n",
    "reg_res.text"
   ]
  },
  {
   "cell_type": "code",
   "execution_count": 18,
   "metadata": {},
   "outputs": [
    {
     "data": {
      "text/plain": [
       "'{\"error\": null}'"
      ]
     },
     "execution_count": 18,
     "metadata": {},
     "output_type": "execute_result"
    }
   ],
   "source": [
    "login_res=s.post(\"http://127.0.0.1:5000/auth/login\",json_post,headers=headers)\n",
    "login_res.text"
   ]
  },
  {
   "cell_type": "code",
   "execution_count": null,
   "metadata": {},
   "outputs": [],
   "source": [
    "search_tests=s.get(\"http://127.0.0.1:5000/data/searches\")\n",
    "search_tests"
   ]
  },
  {
   "cell_type": "code",
   "execution_count": null,
   "metadata": {},
   "outputs": [],
   "source": []
  }
 ],
 "metadata": {
  "kernelspec": {
   "display_name": "scrape_env",
   "language": "python",
   "name": "python3"
  },
  "language_info": {
   "codemirror_mode": {
    "name": "ipython",
    "version": 3
   },
   "file_extension": ".py",
   "mimetype": "text/x-python",
   "name": "python",
   "nbconvert_exporter": "python",
   "pygments_lexer": "ipython3",
   "version": "3.10.10"
  },
  "orig_nbformat": 4
 },
 "nbformat": 4,
 "nbformat_minor": 2
}
