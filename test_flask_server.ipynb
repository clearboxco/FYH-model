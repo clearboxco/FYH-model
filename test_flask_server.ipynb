{
 "cells": [
  {
   "cell_type": "code",
   "execution_count": 1,
   "metadata": {},
   "outputs": [],
   "source": [
    "import json\n",
    "import requests as req\n",
    "\n",
    "headers={'Content-Type':'application/json',\n",
    "         'credentials':'include'}"
   ]
  },
  {
   "cell_type": "code",
   "execution_count": 7,
   "metadata": {},
   "outputs": [],
   "source": [
    "s=req.Session()"
   ]
  },
  {
   "cell_type": "code",
   "execution_count": 49,
   "metadata": {},
   "outputs": [],
   "source": [
    "s2=req.Session()"
   ]
  },
  {
   "cell_type": "code",
   "execution_count": 54,
   "metadata": {},
   "outputs": [
    {
     "data": {
      "text/plain": [
       "<Response [200]>"
      ]
     },
     "execution_count": 54,
     "metadata": {},
     "output_type": "execute_result"
    }
   ],
   "source": [
    "s.get(\"http://127.0.0.1:5000/auth/logout\")"
   ]
  },
  {
   "cell_type": "code",
   "execution_count": 8,
   "metadata": {},
   "outputs": [],
   "source": [
    "json_post=json.dumps({'username':'fakemail@gmai.com','password':'fakepass'})"
   ]
  },
  {
   "cell_type": "code",
   "execution_count": 11,
   "metadata": {},
   "outputs": [
    {
     "data": {
      "text/plain": [
       "'<!doctype html>\\n<html lang=en>\\n<title>500 Internal Server Error</title>\\n<h1>Internal Server Error</h1>\\n<p>The server encountered an internal error and was unable to complete your request. Either the server is overloaded or there is an error in the application.</p>\\n'"
      ]
     },
     "execution_count": 11,
     "metadata": {},
     "output_type": "execute_result"
    }
   ],
   "source": [
    "reg_res=s.post(\"http://127.0.0.1:5000/auth/register\",json_post,headers=headers)\n",
    "reg_res.text"
   ]
  },
  {
   "cell_type": "code",
   "execution_count": 6,
   "metadata": {},
   "outputs": [
    {
     "data": {
      "text/plain": [
       "'{\"error\": \"Incorrect username.\"}'"
      ]
     },
     "execution_count": 6,
     "metadata": {},
     "output_type": "execute_result"
    }
   ],
   "source": [
    "login_res=s.post(\"http://127.0.0.1:5000/auth/login\",json_post,headers=headers)\n",
    "login_res.text"
   ]
  },
  {
   "cell_type": "code",
   "execution_count": 55,
   "metadata": {},
   "outputs": [],
   "source": [
    "with open(\"extra/sample_post.json\",'r') as f:\n",
    "    json_data=json.load(f)\n",
    "    \n",
    "\n",
    "\n",
    "response=s.post(\"http://127.0.0.1:5000/model/post\",json.dumps(json_data),headers)"
   ]
  },
  {
   "cell_type": "code",
   "execution_count": 22,
   "metadata": {},
   "outputs": [],
   "source": [
    "res=s.get(\"http://127.0.0.1:5000/data/searches\")"
   ]
  },
  {
   "cell_type": "code",
   "execution_count": 23,
   "metadata": {},
   "outputs": [
    {
     "data": {
      "text/plain": [
       "'{\"error\": null, \"data\": [{\"s_id\": \"23\", \"time_stamp\": \"1689735333.3863792\", \"submission_type\": \"1\", \"city\": \"\", \"state\": \"TX\", \"zip\": \"77004\", \"price_max\": \"500000\", \"price_min\": \"250000\", \"bedrooms\": \"3.0\", \"bathrooms\": \"2.0\", \"sqft\": \"1242.0\", \"property_type\": \"1\", \"year_built_max\": \"2023\", \"year_built_min\": \"1776\", \"u_id\": \"13\", \"rank\": \"8\"}, {\"s_id\": \"22\", \"time_stamp\": \"1689478033.1974912\", \"submission_type\": \"1\", \"city\": \"\", \"state\": \"TX\", \"zip\": \"77004\", \"price_max\": \"500000\", \"price_min\": \"250000\", \"bedrooms\": \"3.0\", \"bathrooms\": \"2.0\", \"sqft\": \"1136.0\", \"property_type\": \"1\", \"year_built_max\": \"2023\", \"year_built_min\": \"1776\", \"u_id\": \"13\", \"rank\": \"9\"}, {\"s_id\": \"21\", \"time_stamp\": \"1689478008.7885537\", \"submission_type\": \"1\", \"city\": \"\", \"state\": \"TX\", \"zip\": \"77004\", \"price_max\": \"500000\", \"price_min\": \"250000\", \"bedrooms\": \"3.0\", \"bathrooms\": \"3.0\", \"sqft\": \"1327.0\", \"property_type\": \"1\", \"year_built_max\": \"2023\", \"year_built_min\": \"1776\", \"u_id\": \"13\", \"rank\": \"10\"}, {\"s_id\": \"20\", \"time_stamp\": \"1689478006.6641922\", \"submission_type\": \"1\", \"city\": \"\", \"state\": \"TX\", \"zip\": \"77004\", \"price_max\": \"500000\", \"price_min\": \"250000\", \"bedrooms\": \"4.0\", \"bathrooms\": \"3.0\", \"sqft\": \"1327.0\", \"property_type\": \"1\", \"year_built_max\": \"2023\", \"year_built_min\": \"1776\", \"u_id\": \"13\", \"rank\": \"11\"}, {\"s_id\": \"19\", \"time_stamp\": \"1689478004.5383377\", \"submission_type\": \"1\", \"city\": \"\", \"state\": \"TX\", \"zip\": \"77004\", \"price_max\": \"500000\", \"price_min\": \"250000\", \"bedrooms\": \"3.0\", \"bathrooms\": \"3.5\", \"sqft\": \"1740.0\", \"property_type\": \"1\", \"year_built_max\": \"2023\", \"year_built_min\": \"1776\", \"u_id\": \"13\", \"rank\": \"12\"}]}'"
      ]
     },
     "execution_count": 23,
     "metadata": {},
     "output_type": "execute_result"
    }
   ],
   "source": [
    "res.text"
   ]
  },
  {
   "cell_type": "code",
   "execution_count": 8,
   "metadata": {},
   "outputs": [],
   "source": [
    "out=s.post(\"http://127.0.0.1:5000/data/searches\",json.dumps({'search_id':'22'}))"
   ]
  },
  {
   "cell_type": "code",
   "execution_count": 9,
   "metadata": {},
   "outputs": [
    {
     "data": {
      "text/plain": [
       "'{\"error\": null, \"data\": [{\"s_id\": \"22\", \"h_id\": \"7381594\", \"time_stamp\": \"2023-07-18 08:15:52\", \"url\": \"https://www.redfin.com/TX/Houston/2417-Rosewood-St-77004/home/29892328\", \"price\": \"325000.0\", \"bedrooms\": \"3.0\", \"bathrooms\": \"2.0\", \"sqft\": \"1146.0\", \"year_built\": \"1930.0\", \"address\": \"2417 Rosewood St\", \"state\": \"TX\", \"city\": \"Houston\", \"zip\": \"77004\", \"openHouse_st\": \"None\", \"openHouse_et\": \"None\", \"HOA/month\": \"None\", \"days_on_market\": \"12.0\", \"price_per_sqft\": \"284.0\", \"rank\": \"0\"}, {\"s_id\": \"22\", \"h_id\": \"402558\", \"time_stamp\": \"2023-07-18 08:15:52\", \"url\": \"https://www.redfin.com/TX/Houston/1411-Wheeler-St-77004/home/29808471\", \"price\": \"324900.0\", \"bedrooms\": \"3.0\", \"bathrooms\": \"1.5\", \"sqft\": \"1172.0\", \"year_built\": \"1965.0\", \"address\": \"1411 Wheeler St\", \"state\": \"TX\", \"city\": \"Houston\", \"zip\": \"77004\", \"openHouse_st\": \"None\", \"openHouse_et\": \"None\", \"HOA/month\": \"None\", \"days_on_market\": \"70.0\", \"price_per_sqft\": \"277.0\", \"rank\": \"1\"}, {\"s_id\": \"22\", \"h_id\": \"402576\", \"time_stamp\": \"2023-07-18 08:15:52\", \"url\": \"https://www.redfin.com/TX/Houston/1410-Rosewood-St-77004/home/29808435\", \"price\": \"439000.0\", \"bedrooms\": \"3.0\", \"bathrooms\": \"2.0\", \"sqft\": \"1439.0\", \"year_built\": \"1929.0\", \"address\": \"1410 Rosewood St\", \"state\": \"TX\", \"city\": \"Houston\", \"zip\": \"77004\", \"openHouse_st\": \"None\", \"openHouse_et\": \"None\", \"HOA/month\": \"None\", \"days_on_market\": \"82.0\", \"price_per_sqft\": \"305.0\", \"rank\": \"2\"}, {\"s_id\": \"22\", \"h_id\": \"402572\", \"time_stamp\": \"2023-07-18 08:15:52\", \"url\": \"https://www.redfin.com/TX/Houston/3230-Berry-St-77004/unit-4/home/177661759\", \"price\": \"417000.0\", \"bedrooms\": \"3.0\", \"bathrooms\": \"2.5\", \"sqft\": \"1350.0\", \"year_built\": \"2022.0\", \"address\": \"3230 Berry St #4\", \"state\": \"TX\", \"city\": \"Houston\", \"zip\": \"77004\", \"openHouse_st\": \"None\", \"openHouse_et\": \"None\", \"HOA/month\": \"None\", \"days_on_market\": \"81.0\", \"price_per_sqft\": \"309.0\", \"rank\": \"3\"}, {\"s_id\": \"22\", \"h_id\": \"402617\", \"time_stamp\": \"2023-07-18 08:15:52\", \"url\": \"https://www.redfin.com/TX/Houston/3512-Cobb-St-77004/home/145086479\", \"price\": \"475000.0\", \"bedrooms\": \"3.0\", \"bathrooms\": \"2.0\", \"sqft\": \"1534.0\", \"year_built\": \"2022.0\", \"address\": \"3512 Cobb St\", \"state\": \"TX\", \"city\": \"Houston\", \"zip\": \"77004\", \"openHouse_st\": \"None\", \"openHouse_et\": \"None\", \"HOA/month\": \"None\", \"days_on_market\": \"202.0\", \"price_per_sqft\": \"310.0\", \"rank\": \"4\"}, {\"s_id\": \"22\", \"h_id\": \"402518\", \"time_stamp\": \"2023-07-18 08:15:52\", \"url\": \"https://www.redfin.com/TX/Houston/3422-Hadley-St-77004/home/29814119\", \"price\": \"290000.0\", \"bedrooms\": \"4.0\", \"bathrooms\": \"2.0\", \"sqft\": \"1284.0\", \"year_built\": \"1935.0\", \"address\": \"3418 and 3422 Hadley St\", \"state\": \"TX\", \"city\": \"Houston\", \"zip\": \"77004\", \"openHouse_st\": \"None\", \"openHouse_et\": \"None\", \"HOA/month\": \"None\", \"days_on_market\": \"45.0\", \"price_per_sqft\": \"226.0\", \"rank\": \"5\"}, {\"s_id\": \"22\", \"h_id\": \"402509\", \"time_stamp\": \"2023-07-18 08:15:52\", \"url\": \"https://www.redfin.com/TX/Houston/3344-Francis-St-77004/home/176480840\", \"price\": \"389000.0\", \"bedrooms\": \"3.0\", \"bathrooms\": \"2.5\", \"sqft\": \"1628.0\", \"year_built\": \"2022.0\", \"address\": \"3344 Francis St\", \"state\": \"TX\", \"city\": \"Houston\", \"zip\": \"77004\", \"openHouse_st\": \"None\", \"openHouse_et\": \"None\", \"HOA/month\": \"None\", \"days_on_market\": \"38.0\", \"price_per_sqft\": \"239.0\", \"rank\": \"6\"}, {\"s_id\": \"22\", \"h_id\": \"402483\", \"time_stamp\": \"2023-07-18 08:15:52\", \"url\": \"https://www.redfin.com/TX/Houston/3320-Bremond-St-77004/home/29765568\", \"price\": \"275000.0\", \"bedrooms\": \"3.0\", \"bathrooms\": \"1.0\", \"sqft\": \"1064.0\", \"year_built\": \"1913.0\", \"address\": \"3320 Bremond St\", \"state\": \"TX\", \"city\": \"Houston\", \"zip\": \"77004\", \"openHouse_st\": \"None\", \"openHouse_et\": \"None\", \"HOA/month\": \"None\", \"days_on_market\": \"21.0\", \"price_per_sqft\": \"258.0\", \"rank\": \"7\"}, {\"s_id\": \"22\", \"h_id\": \"402628\", \"time_stamp\": \"2023-07-18 08:15:52\", \"url\": \"https://www.redfin.com/TX/Houston/3706-Drew-St-77004/home/29708006\", \"price\": \"450000.0\", \"bedrooms\": \"3.0\", \"bathrooms\": \"1.0\", \"sqft\": \"1040.0\", \"year_built\": \"1953.0\", \"address\": \"3706 Drew St\", \"state\": \"TX\", \"city\": \"Houston\", \"zip\": \"77004\", \"openHouse_st\": \"None\", \"openHouse_et\": \"None\", \"HOA/month\": \"None\", \"days_on_market\": \"164.0\", \"price_per_sqft\": \"433.0\", \"rank\": \"8\"}, {\"s_id\": \"22\", \"h_id\": \"402512\", \"time_stamp\": \"2023-07-18 08:15:52\", \"url\": \"https://www.redfin.com/TX/Houston/3825-Wichita-St-77004/home/29969308\", \"price\": \"303000.0\", \"bedrooms\": \"3.0\", \"bathrooms\": \"1.0\", \"sqft\": \"1256.0\", \"year_built\": \"1950.0\", \"address\": \"3825 Wichita St\", \"state\": \"TX\", \"city\": \"Houston\", \"zip\": \"77004\", \"openHouse_st\": \"None\", \"openHouse_et\": \"None\", \"HOA/month\": \"None\", \"days_on_market\": \"40.0\", \"price_per_sqft\": \"241.0\", \"rank\": \"9\"}, {\"s_id\": \"22\", \"h_id\": \"402599\", \"time_stamp\": \"2023-07-18 08:15:52\", \"url\": \"https://www.redfin.com/TX/Houston/2800-Holman-St-77004/home/29694745\", \"price\": \"315000.0\", \"bedrooms\": \"3.0\", \"bathrooms\": \"3.0\", \"sqft\": \"1327.0\", \"year_built\": \"1936.0\", \"address\": \"2800 Holman St\", \"state\": \"TX\", \"city\": \"Houston\", \"zip\": \"77004\", \"openHouse_st\": \"None\", \"openHouse_et\": \"None\", \"HOA/month\": \"None\", \"days_on_market\": \"131.0\", \"price_per_sqft\": \"237.0\", \"rank\": \"10\"}, {\"s_id\": \"22\", \"h_id\": \"402504\", \"time_stamp\": \"2023-07-18 08:15:52\", \"url\": \"https://www.redfin.com/TX/Houston/1400-Dennis-St-77004/home/30709164\", \"price\": \"399999.0\", \"bedrooms\": \"4.0\", \"bathrooms\": \"2.0\", \"sqft\": \"1592.0\", \"year_built\": \"2000.0\", \"address\": \"1400 Dennis St\", \"state\": \"TX\", \"city\": \"Houston\", \"zip\": \"77004\", \"openHouse_st\": \"2023-07-22 11:00:00\", \"openHouse_et\": \"2023-07-22 13:00:00\", \"HOA/month\": \"71.0\", \"days_on_market\": \"35.0\", \"price_per_sqft\": \"251.0\", \"rank\": \"11\"}, {\"s_id\": \"22\", \"h_id\": \"402476\", \"time_stamp\": \"2023-07-18 08:15:52\", \"url\": \"https://www.redfin.com/TX/Houston/3243-Alabama-St-77004/home/29907737\", \"price\": \"378000.0\", \"bedrooms\": \"3.0\", \"bathrooms\": \"1.5\", \"sqft\": \"1740.0\", \"year_built\": \"1930.0\", \"address\": \"3243 Alabama St\", \"state\": \"TX\", \"city\": \"Houston\", \"zip\": \"77004\", \"openHouse_st\": \"None\", \"openHouse_et\": \"None\", \"HOA/month\": \"None\", \"days_on_market\": \"18.0\", \"price_per_sqft\": \"217.0\", \"rank\": \"12\"}, {\"s_id\": \"22\", \"h_id\": \"402577\", \"time_stamp\": \"2023-07-18 08:15:52\", \"url\": \"https://www.redfin.com/TX/Houston/1411-Ruth-St-77004/home/29808436\", \"price\": \"439000.0\", \"bedrooms\": \"2.0\", \"bathrooms\": \"1.0\", \"sqft\": \"1136.0\", \"year_built\": \"1929.0\", \"address\": \"1411 Ruth St\", \"state\": \"TX\", \"city\": \"Houston\", \"zip\": \"77004\", \"openHouse_st\": \"None\", \"openHouse_et\": \"None\", \"HOA/month\": \"None\", \"days_on_market\": \"82.0\", \"price_per_sqft\": \"386.0\", \"rank\": \"13\"}, {\"s_id\": \"22\", \"h_id\": \"402608\", \"time_stamp\": \"2023-07-18 08:15:52\", \"url\": \"https://www.redfin.com/TX/Houston/3015-Truxillo-St-77004/home/29893484\", \"price\": \"295000.0\", \"bedrooms\": \"2.0\", \"bathrooms\": \"1.0\", \"sqft\": \"1242.0\", \"year_built\": \"1936.0\", \"address\": \"3015 Truxillo St\", \"state\": \"TX\", \"city\": \"Houston\", \"zip\": \"77004\", \"openHouse_st\": \"None\", \"openHouse_et\": \"None\", \"HOA/month\": \"None\", \"days_on_market\": \"155.0\", \"price_per_sqft\": \"238.0\", \"rank\": \"14\"}]}'"
      ]
     },
     "execution_count": 9,
     "metadata": {},
     "output_type": "execute_result"
    }
   ],
   "source": [
    "out.text"
   ]
  },
  {
   "cell_type": "code",
   "execution_count": 31,
   "metadata": {},
   "outputs": [],
   "source": [
    "claps=s.get(\"http://127.0.0.1:5000/data/claps\")"
   ]
  },
  {
   "cell_type": "code",
   "execution_count": 32,
   "metadata": {},
   "outputs": [
    {
     "data": {
      "text/plain": [
       "'{\"claps\":3,\"error\":null}\\n'"
      ]
     },
     "execution_count": 32,
     "metadata": {},
     "output_type": "execute_result"
    }
   ],
   "source": [
    "claps.text"
   ]
  },
  {
   "cell_type": "code",
   "execution_count": 2,
   "metadata": {},
   "outputs": [],
   "source": [
    "lst=[]\n",
    "for i in range(1,14):\n",
    "    lst.append(f\":value{i}\")"
   ]
  },
  {
   "cell_type": "code",
   "execution_count": 3,
   "metadata": {},
   "outputs": [
    {
     "data": {
      "text/plain": [
       "[':value1',\n",
       " ':value2',\n",
       " ':value3',\n",
       " ':value4',\n",
       " ':value5',\n",
       " ':value6',\n",
       " ':value7',\n",
       " ':value8',\n",
       " ':value9',\n",
       " ':value10',\n",
       " ':value11',\n",
       " ':value12',\n",
       " ':value13']"
      ]
     },
     "execution_count": 3,
     "metadata": {},
     "output_type": "execute_result"
    }
   ],
   "source": [
    "lst"
   ]
  },
  {
   "cell_type": "code",
   "execution_count": 31,
   "metadata": {},
   "outputs": [],
   "source": [
    "with open(\"extra/sample_post.json\",'r') as f:\n",
    "    json_data=json.load(f)\n",
    "    \n",
    "\n",
    "\n",
    "response=s.post(\"http://127.0.0.1:5000/model/post\",json.dumps(json_data),headers)"
   ]
  },
  {
   "cell_type": "code",
   "execution_count": 32,
   "metadata": {},
   "outputs": [
    {
     "data": {
      "text/plain": [
       "'{\"error\": null, \"model\": \"FYH\", \"data\": [{\"id\": 402553, \"time_stamp\": 1689754557000, \"url\": \"https://www.redfin.com/TX/Houston/2414-Truxillo-St-77004/home/110186943\", \"price\": 499997.0, \"bedrooms\": 3.0, \"bathrooms\": 2.5, \"sqft\": 2575.0, \"year_built\": 2015.0, \"address\": \"2414 Truxillo St\", \"state\": \"TX\", \"city\": \"Houston\", \"zip\": \"77004\", \"openHouse_st\": null, \"openHouse_et\": null, \"HOA/month\": null, \"days_on_market\": 68.0, \"price_per_sqft\": 194.0}, {\"id\": 402488, \"time_stamp\": 1689754557000, \"url\": \"https://www.redfin.com/TX/Houston/3332-Southmore-Blvd-77004/home/29897568\", \"price\": 420000.0, \"bedrooms\": 3.0, \"bathrooms\": 2.5, \"sqft\": 2460.0, \"year_built\": 1946.0, \"address\": \"3332 Southmore Blvd\", \"state\": \"TX\", \"city\": \"Houston\", \"zip\": \"77004\", \"openHouse_st\": null, \"openHouse_et\": null, \"HOA/month\": null, \"days_on_market\": 26.0, \"price_per_sqft\": 171.0}, {\"id\": 402519, \"time_stamp\": 1689754557000, \"url\": \"https://www.redfin.com/TX/Houston/1807-Wichita-St-77004/home/110185826\", \"price\": 499999.0, \"bedrooms\": 3.0, \"bathrooms\": 2.5, \"sqft\": 2390.0, \"year_built\": 2014.0, \"address\": \"1807 Wichita St\", \"state\": \"TX\", \"city\": \"Houston\", \"zip\": \"77004\", \"openHouse_st\": null, \"openHouse_et\": null, \"HOA/month\": null, \"days_on_market\": 46.0, \"price_per_sqft\": 209.0}, {\"id\": 402520, \"time_stamp\": 1689754557000, \"url\": \"https://www.redfin.com/TX/Houston/2010-Wentworth-St-77004/home/29889583\", \"price\": 445000.0, \"bedrooms\": 3.0, \"bathrooms\": 1.5, \"sqft\": 2292.0, \"year_built\": 1938.0, \"address\": \"2010 Wentworth St\", \"state\": \"TX\", \"city\": \"Houston\", \"zip\": \"77004\", \"openHouse_st\": null, \"openHouse_et\": null, \"HOA/month\": null, \"days_on_market\": 47.0, \"price_per_sqft\": 194.0}, {\"id\": 7381596, \"time_stamp\": 1689754557000, \"url\": \"https://www.redfin.com/TX/Houston/2616-Rosewood-St-77004/home/29893708\", \"price\": 479999.0, \"bedrooms\": 3.0, \"bathrooms\": 2.5, \"sqft\": 2268.0, \"year_built\": 1942.0, \"address\": \"2616 Rosewood St\", \"state\": \"TX\", \"city\": \"Houston\", \"zip\": \"77004\", \"openHouse_st\": 1690023600000, \"openHouse_et\": 1690034400000, \"HOA/month\": null, \"days_on_market\": 13.0, \"price_per_sqft\": 212.0}, {\"id\": 402568, \"time_stamp\": 1689754557000, \"url\": \"https://www.redfin.com/TX/Houston/3862-Wichita-St-77004/home/30176173\", \"price\": 495000.0, \"bedrooms\": 4.0, \"bathrooms\": 2.5, \"sqft\": 2550.0, \"year_built\": 1977.0, \"address\": \"3862 Wichita St\", \"state\": \"TX\", \"city\": \"Houston\", \"zip\": \"77004\", \"openHouse_st\": null, \"openHouse_et\": null, \"HOA/month\": null, \"days_on_market\": 77.0, \"price_per_sqft\": 194.0}, {\"id\": 7381592, \"time_stamp\": 1689754557000, \"url\": \"https://www.redfin.com/TX/Houston/4711-San-Jacinto-St-77004/home/29594927\", \"price\": 475000.0, \"bedrooms\": 3.0, \"bathrooms\": 3.0, \"sqft\": 2742.0, \"year_built\": 2007.0, \"address\": \"4711 San Jacinto St\", \"state\": \"TX\", \"city\": \"Houston\", \"zip\": \"77004\", \"openHouse_st\": null, \"openHouse_et\": null, \"HOA/month\": 320.0, \"days_on_market\": 13.0, \"price_per_sqft\": 173.0}, {\"id\": 402587, \"time_stamp\": 1689754557000, \"url\": \"https://www.redfin.com/TX/Houston/2618-Truxillo-St-77004/home/29893591\", \"price\": 344900.0, \"bedrooms\": 4.0, \"bathrooms\": 2.0, \"sqft\": 2046.0, \"year_built\": 1930.0, \"address\": \"2618 Truxillo St\", \"state\": \"TX\", \"city\": \"Houston\", \"zip\": \"77004\", \"openHouse_st\": null, \"openHouse_et\": null, \"HOA/month\": null, \"days_on_market\": 98.0, \"price_per_sqft\": 169.0}, {\"id\": 7869028, \"time_stamp\": 1689754557000, \"url\": \"https://www.redfin.com/TX/Houston/2002-Blodgett-St-77004/home/29546280\", \"price\": 425000.0, \"bedrooms\": 3.0, \"bathrooms\": 3.0, \"sqft\": 2139.0, \"year_built\": 2008.0, \"address\": \"2002 Blodgett St\", \"state\": \"TX\", \"city\": \"Houston\", \"zip\": \"77004\", \"openHouse_st\": null, \"openHouse_et\": null, \"HOA/month\": 25.0, \"days_on_market\": 12.0, \"price_per_sqft\": 199.0}, {\"id\": 402545, \"time_stamp\": 1689754557000, \"url\": \"https://www.redfin.com/TX/Houston/2617-Live-Oak-St-77004/home/170676313\", \"price\": 409000.0, \"bedrooms\": 3.0, \"bathrooms\": 2.5, \"sqft\": 1890.0, \"year_built\": 2019.0, \"address\": \"2617 Live Oak St\", \"state\": \"TX\", \"city\": \"Houston\", \"zip\": \"77004\", \"openHouse_st\": null, \"openHouse_et\": null, \"HOA/month\": null, \"days_on_market\": 62.0, \"price_per_sqft\": 216.0}, {\"id\": 402363, \"time_stamp\": 1689754557000, \"url\": \"https://www.redfin.com/TX/Houston/2710-Drew-St-77004/home/178296257\", \"price\": 415000.0, \"bedrooms\": 3.0, \"bathrooms\": 2.5, \"sqft\": 1840.0, \"year_built\": 2021.0, \"address\": \"2710 Drew St\", \"state\": \"TX\", \"city\": \"Houston\", \"zip\": \"77004\", \"openHouse_st\": null, \"openHouse_et\": null, \"HOA/month\": null, \"days_on_market\": 47.0, \"price_per_sqft\": 226.0}, {\"id\": 10428741, \"time_stamp\": 1689754557000, \"url\": \"https://www.redfin.com/TX/Houston/3209-Holman-St-77004/home/29820199\", \"price\": 344470.0, \"bedrooms\": 2.0, \"bathrooms\": 2.0, \"sqft\": 1872.0, \"year_built\": 1950.0, \"address\": \"3209 Holman St\", \"state\": \"TX\", \"city\": \"Houston\", \"zip\": \"77004\", \"openHouse_st\": null, \"openHouse_et\": null, \"HOA/month\": null, \"days_on_market\": 7.0, \"price_per_sqft\": 184.0}, {\"id\": 402476, \"time_stamp\": 1689754557000, \"url\": \"https://www.redfin.com/TX/Houston/3243-Alabama-St-77004/home/29907737\", \"price\": 378000.0, \"bedrooms\": 3.0, \"bathrooms\": 1.5, \"sqft\": 1740.0, \"year_built\": 1930.0, \"address\": \"3243 Alabama St\", \"state\": \"TX\", \"city\": \"Houston\", \"zip\": \"77004\", \"openHouse_st\": null, \"openHouse_et\": null, \"HOA/month\": null, \"days_on_market\": 19.0, \"price_per_sqft\": 217.0}, {\"id\": 402570, \"time_stamp\": 1689754557000, \"url\": \"https://www.redfin.com/TX/Houston/1501-Cleburne-St-77004/home/29568506\", \"price\": 485000.0, \"bedrooms\": 3.0, \"bathrooms\": 3.5, \"sqft\": 2532.0, \"year_built\": 2007.0, \"address\": \"1501 Cleburne St\", \"state\": \"TX\", \"city\": \"Houston\", \"zip\": \"77004\", \"openHouse_st\": null, \"openHouse_et\": null, \"HOA/month\": null, \"days_on_market\": 79.0, \"price_per_sqft\": 192.0}, {\"id\": 7869024, \"time_stamp\": 1689754557000, \"url\": \"https://www.redfin.com/TX/Houston/4903-La-Branch-St-77004/home/29328896\", \"price\": 495000.0, \"bedrooms\": 3.0, \"bathrooms\": 3.5, \"sqft\": 2525.0, \"year_built\": 2005.0, \"address\": \"4903 La Branch St\", \"state\": \"TX\", \"city\": \"Houston\", \"zip\": \"77004\", \"openHouse_st\": null, \"openHouse_et\": null, \"HOA/month\": 208.0, \"days_on_market\": 11.0, \"price_per_sqft\": 196.0}]}'"
      ]
     },
     "execution_count": 32,
     "metadata": {},
     "output_type": "execute_result"
    }
   ],
   "source": [
    "response.text"
   ]
  },
  {
   "cell_type": "code",
   "execution_count": 23,
   "metadata": {},
   "outputs": [],
   "source": [
    "import pandas as pd\n",
    "ts=pd.to_datetime('now',utc=True).replace(microsecond=0)"
   ]
  },
  {
   "cell_type": "code",
   "execution_count": 28,
   "metadata": {},
   "outputs": [
    {
     "data": {
      "text/plain": [
       "'2023-07-11 23:25:42+00:00'"
      ]
     },
     "execution_count": 28,
     "metadata": {},
     "output_type": "execute_result"
    }
   ],
   "source": [
    "str(ts)"
   ]
  },
  {
   "cell_type": "code",
   "execution_count": 23,
   "metadata": {},
   "outputs": [
    {
     "data": {
      "text/plain": [
       "'{\"claps\": \"1\"}'"
      ]
     },
     "execution_count": 23,
     "metadata": {},
     "output_type": "execute_result"
    }
   ],
   "source": [
    "jsn=json.dumps({'claps':'1'})\n",
    "jsn"
   ]
  },
  {
   "cell_type": "code",
   "execution_count": 26,
   "metadata": {},
   "outputs": [
    {
     "data": {
      "text/plain": [
       "<Response [500]>"
      ]
     },
     "execution_count": 26,
     "metadata": {},
     "output_type": "execute_result"
    }
   ],
   "source": [
    "search_tests=s.get(\"http://127.0.0.1:5000/data/claps\")\n",
    "search_tests"
   ]
  },
  {
   "cell_type": "code",
   "execution_count": 54,
   "metadata": {},
   "outputs": [
    {
     "data": {
      "text/plain": [
       "'{\"error\": null}'"
      ]
     },
     "execution_count": 54,
     "metadata": {},
     "output_type": "execute_result"
    }
   ],
   "source": [
    "search_tests.text"
   ]
  },
  {
   "cell_type": "code",
   "execution_count": 5,
   "metadata": {},
   "outputs": [
    {
     "data": {
      "text/plain": [
       "'{\"username\": \"rsherby7@gmail.com\", \"password\": \"admin\"}'"
      ]
     },
     "execution_count": 5,
     "metadata": {},
     "output_type": "execute_result"
    }
   ],
   "source": [
    "json_post=json.dumps({'username':'rsherby7@gmail.com','password':'admin'})\n",
    "json_post"
   ]
  },
  {
   "cell_type": "code",
   "execution_count": null,
   "metadata": {},
   "outputs": [],
   "source": [
    "reg_res=s.post(\"http://127.0.0.1:5000/auth/register\",json_post,headers=headers)\n",
    "reg_res.text"
   ]
  },
  {
   "cell_type": "code",
   "execution_count": 18,
   "metadata": {},
   "outputs": [
    {
     "data": {
      "text/plain": [
       "'{\"error\": null}'"
      ]
     },
     "execution_count": 18,
     "metadata": {},
     "output_type": "execute_result"
    }
   ],
   "source": [
    "login_res=s.post(\"http://127.0.0.1:5000/auth/login\",json_post,headers=headers)\n",
    "login_res.text"
   ]
  },
  {
   "cell_type": "code",
   "execution_count": null,
   "metadata": {},
   "outputs": [],
   "source": [
    "search_tests=s.get(\"http://127.0.0.1:5000/data/searches\")\n",
    "search_tests"
   ]
  },
  {
   "cell_type": "code",
   "execution_count": null,
   "metadata": {},
   "outputs": [],
   "source": []
  },
  {
   "cell_type": "code",
   "execution_count": 19,
   "metadata": {},
   "outputs": [
    {
     "name": "stdout",
     "output_type": "stream",
     "text": [
      "Calling async function\n",
      "Function completed\n"
     ]
    },
    {
     "name": "stdout",
     "output_type": "stream",
     "text": [
      "Async function completed\n",
      "Async function completed\n",
      "Async function completed\n"
     ]
    }
   ],
   "source": [
    "import asyncio\n",
    "\n",
    "async def async_function():\n",
    "    # simulate a time-consuming asynchronous action\n",
    "    await asyncio.sleep(10000000)\n",
    "    print('Async function completed')\n",
    "\n",
    "def my_function():\n",
    "    print('Calling async function')\n",
    "    asyncio.ensure_future(async_function())\n",
    "    return 'Function completed'\n",
    "\n",
    "print(my_function()) # prints \"Function completed\"\n",
    "# prints \"Calling async function\"\n",
    "# prints \"Async function completed\" after 1 second\n"
   ]
  },
  {
   "cell_type": "code",
   "execution_count": 12,
   "metadata": {},
   "outputs": [],
   "source": [
    "states=['state1','state2','state3','state4','state5']"
   ]
  },
  {
   "cell_type": "code",
   "execution_count": 13,
   "metadata": {},
   "outputs": [],
   "source": [
    "NA_states=['state2']"
   ]
  },
  {
   "cell_type": "code",
   "execution_count": 16,
   "metadata": {},
   "outputs": [
    {
     "name": "stdout",
     "output_type": "stream",
     "text": [
      "Failed to scrape valid state: state1\n",
      "Failed to scrape valid state: state3\n",
      "Failed to scrape valid state: state4\n",
      "Failed to scrape valid state: state5\n"
     ]
    }
   ],
   "source": [
    "subtotal=0\n",
    "\n",
    "for i in range(len(states)):\n",
    "    res=None\n",
    "    \n",
    "    if (res is None or res.empty) and (states[i] not in NA_states):\n",
    "        c=0\n",
    "        while(c<10 and (res is None or res.empty)):\n",
    "            res=None\n",
    "            c+=1\n",
    "        else:\n",
    "            if(c==10):\n",
    "                print(f\"Failed to scrape valid state: {states[i]}\")\n",
    "                \n",
    "        subtotal+=c"
   ]
  },
  {
   "cell_type": "code",
   "execution_count": null,
   "metadata": {},
   "outputs": [],
   "source": []
  }
 ],
 "metadata": {
  "kernelspec": {
   "display_name": "scrape_env",
   "language": "python",
   "name": "python3"
  },
  "language_info": {
   "codemirror_mode": {
    "name": "ipython",
    "version": 3
   },
   "file_extension": ".py",
   "mimetype": "text/x-python",
   "name": "python",
   "nbconvert_exporter": "python",
   "pygments_lexer": "ipython3",
   "version": "3.10.10"
  },
  "orig_nbformat": 4
 },
 "nbformat": 4,
 "nbformat_minor": 2
}
