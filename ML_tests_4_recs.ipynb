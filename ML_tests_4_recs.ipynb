{
 "cells": [
  {
   "cell_type": "code",
   "execution_count": 2,
   "metadata": {},
   "outputs": [],
   "source": [
    "import os\n",
    "from copy import deepcopy\n",
    "\n",
    "import pandas as pd\n",
    "import numpy as np\n",
    "import seaborn as sns\n",
    "%matplotlib inline\n",
    "\n",
    "from sklearn.model_selection import train_test_split,KFold,GridSearchCV,cross_val_score\n",
    "\n",
    "from sklearn.compose import ColumnTransformer\n",
    "from sklearn.pipeline import Pipeline\n",
    "from sklearn.preprocessing import SplineTransformer,PolynomialFeatures,StandardScaler,MinMaxScaler\n",
    "\n",
    "\n",
    "\n",
    "from sklearn.metrics import r2_score,mean_absolute_error,mean_squared_error\n",
    "\n",
    "# MODELS\n",
    "from sklearn.neighbors import NearestNeighbors"
   ]
  },
  {
   "cell_type": "code",
   "execution_count": 3,
   "metadata": {},
   "outputs": [],
   "source": [
    "def mean(list):\n",
    "    return sum(list)/len(list)\n",
    "\n",
    "def is_outlier(points, thresh=3.5):\n",
    "    \"\"\"\n",
    "    Returns a boolean array with True if points are outliers and False \n",
    "    otherwise.\n",
    "\n",
    "    Parameters:\n",
    "    -----------\n",
    "        points : An numobservations by numdimensions array of observations\n",
    "        thresh : The modified z-score to use as a threshold. Observations with\n",
    "            a modified z-score (based on the median absolute deviation) greater\n",
    "            than this value will be classified as outliers.\n",
    "\n",
    "    Returns:\n",
    "    --------\n",
    "        mask : A numobservations-length boolean array.\n",
    "\n",
    "    References:\n",
    "    ----------\n",
    "        Boris Iglewicz and David Hoaglin (1993), \"Volume 16: How to Detect and\n",
    "        Handle Outliers\", The ASQC Basic References in Quality Control:\n",
    "        Statistical Techniques, Edward F. Mykytka, Ph.D., Editor. \n",
    "    \"\"\"\n",
    "    if len(points.shape) == 1:\n",
    "        points = points[:,None]\n",
    "    median = np.median(points, axis=0)\n",
    "    diff = np.sum((points - median)**2, axis=-1)\n",
    "    diff = np.sqrt(diff)\n",
    "    med_abs_deviation = np.median(diff)\n",
    "\n",
    "    modified_z_score = 0.6745 * diff / med_abs_deviation\n",
    "\n",
    "    return modified_z_score > thresh"
   ]
  },
  {
   "cell_type": "code",
   "execution_count": 4,
   "metadata": {},
   "outputs": [],
   "source": [
    "# COLLABORATIVE RECS -- Future application; need users\n",
    "\n",
    "### Applying weightings to homes that have been upvoted by users with similar profile characteristics\n",
    "\n",
    "### Strength of weighting should be inversely related to how close user input is to the user input that liked that house\n",
    "### Potentially use deviations of scaler to determine how far a value is away from norm\n",
    "\n",
    "# Python --> Crab library"
   ]
  },
  {
   "cell_type": "code",
   "execution_count": 5,
   "metadata": {},
   "outputs": [],
   "source": [
    "# User Input Considerations:\n",
    "\n",
    "# I'm Feeling Lucky -> Drop a random dot in the housing map\n",
    "\n",
    "## Price Range: Min - Max\n",
    "\n",
    "## Property Type\n",
    "\n",
    "# Minimum Requirements ^^\n",
    "\n",
    "## State\n",
    "\n",
    "## City\n",
    "\n",
    "## Zip Code\n",
    "\n",
    "## No. of Bedrooms\n",
    "\n",
    "## No. of Bathrooms\n",
    "\n",
    "## Square Footage\n",
    "\n",
    "## Year Built\n",
    "\n",
    "\n",
    "\n",
    "### NEED TO IDENTIFY WHEN DATA IS SPARSE FOR A CERTAIN AREA AND PRESENT APOLOGY MESSAGE\n"
   ]
  },
  {
   "cell_type": "code",
   "execution_count": 295,
   "metadata": {},
   "outputs": [],
   "source": [
    "aws_bucket=os.getenv('AWS_RE_BUCKET')\n",
    "aws_key=os.getenv('AWS_RE_BUCKET_KEY')\n",
    "aws_secret=os.getenv('AWS_RE_BUCKET_SECRET')\n",
    "\n",
    "date=\"2023-06-16\"\n",
    "state=\"CA\"\n",
    "states=['AL',\n",
    " 'NE',\n",
    " 'AK',\n",
    " 'NV',\n",
    " 'AZ',\n",
    " 'NH',\n",
    " 'AR',\n",
    " 'NJ',\n",
    " 'CA',\n",
    " 'NM',\n",
    " 'CO',\n",
    " 'NY',\n",
    " 'CT',\n",
    " 'NC',\n",
    " 'DE',\n",
    " 'ND',\n",
    " 'DC',\n",
    " 'OH',\n",
    " 'FL',\n",
    " 'OK',\n",
    " 'GA',\n",
    " 'OR',\n",
    " 'HI',\n",
    " 'PA',\n",
    " 'ID',\n",
    " 'PR',\n",
    " 'IL',\n",
    " 'RI',\n",
    " 'IN',\n",
    " 'SC',\n",
    " 'IA',\n",
    " 'SD',\n",
    " 'KS',\n",
    " 'TN',\n",
    " 'KY',\n",
    " 'TX',\n",
    " 'LA',\n",
    " 'UT',\n",
    " 'ME',\n",
    " 'VT',\n",
    " 'MD',\n",
    " 'VA',\n",
    " 'MA',\n",
    " 'VI',\n",
    " 'MI',\n",
    " 'WA',\n",
    " 'MN',\n",
    " 'WV',\n",
    " 'MS',\n",
    " 'WI',\n",
    " 'MO',\n",
    " 'WY',\n",
    " 'MT',\n",
    "]"
   ]
  },
  {
   "cell_type": "code",
   "execution_count": 296,
   "metadata": {},
   "outputs": [],
   "source": [
    "# PULLING IN DATA\n",
    "\n",
    "df_list=[]\n",
    "for st in states:\n",
    "    try:\n",
    "        df = pd.read_parquet(path=aws_bucket+f\"/{date}/{st}.parquet\",storage_options={\"key\":aws_key,\"secret\":aws_secret})\n",
    "        df_list.append(df)\n",
    "    except:\n",
    "        pass\n",
    "    \n",
    "df=pd.concat(df_list)"
   ]
  },
  {
   "cell_type": "code",
   "execution_count": 9,
   "metadata": {},
   "outputs": [
    {
     "data": {
      "text/plain": [
       "array(['Mobile/Manufactured Home', 'Vacant Land',\n",
       "       'Single Family Residential', 'Multi-Family (2-4 Unit)',\n",
       "       'Multi-Family (5+ Unit)', 'Townhouse', 'Ranch', 'Condo/Co-op',\n",
       "       'Other', 'Parking', 'Timeshare', 'Moorage', 'Unknown', 'None'],\n",
       "      dtype=object)"
      ]
     },
     "execution_count": 9,
     "metadata": {},
     "output_type": "execute_result"
    }
   ],
   "source": [
    "df['PROPERTY TYPE'].unique()"
   ]
  },
  {
   "cell_type": "code",
   "execution_count": 297,
   "metadata": {},
   "outputs": [],
   "source": [
    "df_copy=deepcopy(df)"
   ]
  },
  {
   "cell_type": "code",
   "execution_count": 298,
   "metadata": {},
   "outputs": [
    {
     "data": {
      "text/plain": [
       "Index(['SALE TYPE', 'TimeStamp', 'SOLD DATE', 'PROPERTY TYPE', 'ADDRESS',\n",
       "       'CITY', 'STATE OR PROVINCE', 'ZIP OR POSTAL CODE', 'PRICE', 'BEDS',\n",
       "       'BATHS', 'LOCATION', 'SQUARE FEET', 'LOT SIZE', 'YEAR BUILT',\n",
       "       'DAYS ON MARKET', '$/SQUARE FEET', 'HOA/MONTH', 'STATUS',\n",
       "       'NEXT OPEN HOUSE START TIME', 'NEXT OPEN HOUSE END TIME',\n",
       "       'URL (SEE https://www.redfin.com/buy-a-home/comparative-market-analysis FOR INFO ON PRICING)',\n",
       "       'SOURCE', 'MLS#', 'FAVORITE', 'INTERESTED', 'LATITUDE', 'LONGITUDE'],\n",
       "      dtype='object')"
      ]
     },
     "execution_count": 298,
     "metadata": {},
     "output_type": "execute_result"
    }
   ],
   "source": [
    "df_copy.columns"
   ]
  },
  {
   "cell_type": "code",
   "execution_count": 299,
   "metadata": {},
   "outputs": [],
   "source": [
    "df=df_copy"
   ]
  },
  {
   "cell_type": "code",
   "execution_count": 300,
   "metadata": {},
   "outputs": [],
   "source": [
    "# PREPROCESSING\n",
    "prop_types=['Single Family Residential', 'Mobile/Manufactured Home','Townhouse', 'Multi-Family (2-4 Unit)', 'Condo/Co-op','Multi-Family (5+ Unit)']\n",
    "\n",
    "df=df.applymap(lambda x: np.nan if x=='nan' else x)\n",
    "\n",
    "#zip_count = df[['ZIP OR POSTAL CODE']].nunique().iloc[0]\n",
    "\n",
    "#df=df[(df['CITY']=='Houston')&(df['STATE OR PROVINCE']=='TX')] # TEMP LIMITER 1\n",
    "\n",
    "#df=df[df['PROPERTY TYPE']=='Single Family Residential'] # TEMP LIMITER 2\n",
    "\n",
    "df=df[df['PROPERTY TYPE'].isin(prop_types)]\n",
    "\n",
    "df=df[['ADDRESS','CITY','STATE OR PROVINCE','ZIP OR POSTAL CODE','PROPERTY TYPE','PRICE','BEDS','BATHS','SQUARE FEET','YEAR BUILT','URL (SEE https://www.redfin.com/buy-a-home/comparative-market-analysis FOR INFO ON PRICING)']].dropna(axis=0).reset_index(drop=True).apply(lambda row: pd.to_numeric(row,errors='ignore'))\n",
    "\n",
    "\n",
    "df_full=df\n",
    "\n",
    "df_final=df_full.drop(['ADDRESS','CITY','STATE OR PROVINCE','ZIP OR POSTAL CODE','PROPERTY TYPE'],axis=1)\n"
   ]
  },
  {
   "cell_type": "code",
   "execution_count": 301,
   "metadata": {},
   "outputs": [
    {
     "data": {
      "text/html": [
       "<div>\n",
       "<style scoped>\n",
       "    .dataframe tbody tr th:only-of-type {\n",
       "        vertical-align: middle;\n",
       "    }\n",
       "\n",
       "    .dataframe tbody tr th {\n",
       "        vertical-align: top;\n",
       "    }\n",
       "\n",
       "    .dataframe thead th {\n",
       "        text-align: right;\n",
       "    }\n",
       "</style>\n",
       "<table border=\"1\" class=\"dataframe\">\n",
       "  <thead>\n",
       "    <tr style=\"text-align: right;\">\n",
       "      <th></th>\n",
       "      <th>ADDRESS</th>\n",
       "      <th>CITY</th>\n",
       "      <th>STATE OR PROVINCE</th>\n",
       "      <th>ZIP OR POSTAL CODE</th>\n",
       "      <th>PROPERTY TYPE</th>\n",
       "      <th>PRICE</th>\n",
       "      <th>BEDS</th>\n",
       "      <th>BATHS</th>\n",
       "      <th>SQUARE FEET</th>\n",
       "      <th>YEAR BUILT</th>\n",
       "      <th>URL (SEE https://www.redfin.com/buy-a-home/comparative-market-analysis FOR INFO ON PRICING)</th>\n",
       "    </tr>\n",
       "  </thead>\n",
       "  <tbody>\n",
       "    <tr>\n",
       "      <th>0</th>\n",
       "      <td>4900 County Road 15</td>\n",
       "      <td>Maplesville</td>\n",
       "      <td>AL</td>\n",
       "      <td>36750</td>\n",
       "      <td>Mobile/Manufactured Home</td>\n",
       "      <td>179000.0</td>\n",
       "      <td>4.0</td>\n",
       "      <td>2.0</td>\n",
       "      <td>1976.0</td>\n",
       "      <td>2019.0</td>\n",
       "      <td>https://www.redfin.com/AL/Maplesville/4900-Cou...</td>\n",
       "    </tr>\n",
       "    <tr>\n",
       "      <th>1</th>\n",
       "      <td>9455 Highway 191</td>\n",
       "      <td>Maplesville</td>\n",
       "      <td>AL</td>\n",
       "      <td>36750</td>\n",
       "      <td>Single Family Residential</td>\n",
       "      <td>650000.0</td>\n",
       "      <td>5.0</td>\n",
       "      <td>3.0</td>\n",
       "      <td>4236.0</td>\n",
       "      <td>2010.0</td>\n",
       "      <td>https://www.redfin.com/AL/Maplesville/9455-AL-...</td>\n",
       "    </tr>\n",
       "    <tr>\n",
       "      <th>2</th>\n",
       "      <td>185 County Road 10</td>\n",
       "      <td>Maplesville</td>\n",
       "      <td>AL</td>\n",
       "      <td>36750</td>\n",
       "      <td>Single Family Residential</td>\n",
       "      <td>345000.0</td>\n",
       "      <td>5.0</td>\n",
       "      <td>4.0</td>\n",
       "      <td>2690.0</td>\n",
       "      <td>2002.0</td>\n",
       "      <td>https://www.redfin.com/AL/Maplesville/185-Coun...</td>\n",
       "    </tr>\n",
       "    <tr>\n",
       "      <th>3</th>\n",
       "      <td>231 Birmingham St</td>\n",
       "      <td>Prichard</td>\n",
       "      <td>AL</td>\n",
       "      <td>36610</td>\n",
       "      <td>Single Family Residential</td>\n",
       "      <td>154000.0</td>\n",
       "      <td>3.0</td>\n",
       "      <td>2.0</td>\n",
       "      <td>1624.0</td>\n",
       "      <td>1950.0</td>\n",
       "      <td>https://www.redfin.com/AL/Prichard/231-Birming...</td>\n",
       "    </tr>\n",
       "    <tr>\n",
       "      <th>4</th>\n",
       "      <td>1417 Saint Claire Ave</td>\n",
       "      <td>Mobile</td>\n",
       "      <td>AL</td>\n",
       "      <td>36610</td>\n",
       "      <td>Multi-Family (2-4 Unit)</td>\n",
       "      <td>38000.0</td>\n",
       "      <td>4.0</td>\n",
       "      <td>2.0</td>\n",
       "      <td>1400.0</td>\n",
       "      <td>1950.0</td>\n",
       "      <td>https://www.redfin.com/AL/Mobile/1417-Saint-Cl...</td>\n",
       "    </tr>\n",
       "    <tr>\n",
       "      <th>...</th>\n",
       "      <td>...</td>\n",
       "      <td>...</td>\n",
       "      <td>...</td>\n",
       "      <td>...</td>\n",
       "      <td>...</td>\n",
       "      <td>...</td>\n",
       "      <td>...</td>\n",
       "      <td>...</td>\n",
       "      <td>...</td>\n",
       "      <td>...</td>\n",
       "      <td>...</td>\n",
       "    </tr>\n",
       "    <tr>\n",
       "      <th>500770</th>\n",
       "      <td>28 Miles Ave Unit 103</td>\n",
       "      <td>Whitefish</td>\n",
       "      <td>MT</td>\n",
       "      <td>59937</td>\n",
       "      <td>Condo/Co-op</td>\n",
       "      <td>2500000.0</td>\n",
       "      <td>3.0</td>\n",
       "      <td>2.5</td>\n",
       "      <td>2707.0</td>\n",
       "      <td>2023.0</td>\n",
       "      <td>https://www.redfin.com/MT/Whitefish/28-Miles-A...</td>\n",
       "    </tr>\n",
       "    <tr>\n",
       "      <th>500771</th>\n",
       "      <td>57 Crestwood Dr Unit A</td>\n",
       "      <td>Whitefish</td>\n",
       "      <td>MT</td>\n",
       "      <td>59937</td>\n",
       "      <td>Townhouse</td>\n",
       "      <td>2906000.0</td>\n",
       "      <td>5.0</td>\n",
       "      <td>4.0</td>\n",
       "      <td>2906.0</td>\n",
       "      <td>2022.0</td>\n",
       "      <td>https://www.redfin.com/MT/Whitefish/57-Crestwo...</td>\n",
       "    </tr>\n",
       "    <tr>\n",
       "      <th>500772</th>\n",
       "      <td>1515 Highway 93 W Unit 326</td>\n",
       "      <td>Whitefish</td>\n",
       "      <td>MT</td>\n",
       "      <td>59937</td>\n",
       "      <td>Condo/Co-op</td>\n",
       "      <td>1999000.0</td>\n",
       "      <td>3.0</td>\n",
       "      <td>3.0</td>\n",
       "      <td>1960.0</td>\n",
       "      <td>2022.0</td>\n",
       "      <td>https://www.redfin.com/MT/Whitefish/1515-U-S-9...</td>\n",
       "    </tr>\n",
       "    <tr>\n",
       "      <th>500773</th>\n",
       "      <td>1515 Highway 93 W Unit 327</td>\n",
       "      <td>Whitefish</td>\n",
       "      <td>MT</td>\n",
       "      <td>59937</td>\n",
       "      <td>Condo/Co-op</td>\n",
       "      <td>1699000.0</td>\n",
       "      <td>2.0</td>\n",
       "      <td>2.0</td>\n",
       "      <td>1698.0</td>\n",
       "      <td>2022.0</td>\n",
       "      <td>https://www.redfin.com/MT/Whitefish/1515-U-S-9...</td>\n",
       "    </tr>\n",
       "    <tr>\n",
       "      <th>500774</th>\n",
       "      <td>247 B Elm Ct</td>\n",
       "      <td>Whitefish</td>\n",
       "      <td>MT</td>\n",
       "      <td>59937</td>\n",
       "      <td>Townhouse</td>\n",
       "      <td>669900.0</td>\n",
       "      <td>2.0</td>\n",
       "      <td>2.0</td>\n",
       "      <td>1367.0</td>\n",
       "      <td>2022.0</td>\n",
       "      <td>https://www.redfin.com/MT/Whitefish/247-Elm-Ct...</td>\n",
       "    </tr>\n",
       "  </tbody>\n",
       "</table>\n",
       "<p>500775 rows × 11 columns</p>\n",
       "</div>"
      ],
      "text/plain": [
       "                           ADDRESS         CITY STATE OR PROVINCE  \\\n",
       "0              4900 County Road 15  Maplesville                AL   \n",
       "1                 9455 Highway 191  Maplesville                AL   \n",
       "2               185 County Road 10  Maplesville                AL   \n",
       "3                231 Birmingham St     Prichard                AL   \n",
       "4            1417 Saint Claire Ave       Mobile                AL   \n",
       "...                            ...          ...               ...   \n",
       "500770       28 Miles Ave Unit 103    Whitefish                MT   \n",
       "500771      57 Crestwood Dr Unit A    Whitefish                MT   \n",
       "500772  1515 Highway 93 W Unit 326    Whitefish                MT   \n",
       "500773  1515 Highway 93 W Unit 327    Whitefish                MT   \n",
       "500774                247 B Elm Ct    Whitefish                MT   \n",
       "\n",
       "       ZIP OR POSTAL CODE              PROPERTY TYPE      PRICE  BEDS  BATHS  \\\n",
       "0                   36750   Mobile/Manufactured Home   179000.0   4.0    2.0   \n",
       "1                   36750  Single Family Residential   650000.0   5.0    3.0   \n",
       "2                   36750  Single Family Residential   345000.0   5.0    4.0   \n",
       "3                   36610  Single Family Residential   154000.0   3.0    2.0   \n",
       "4                   36610    Multi-Family (2-4 Unit)    38000.0   4.0    2.0   \n",
       "...                   ...                        ...        ...   ...    ...   \n",
       "500770              59937                Condo/Co-op  2500000.0   3.0    2.5   \n",
       "500771              59937                  Townhouse  2906000.0   5.0    4.0   \n",
       "500772              59937                Condo/Co-op  1999000.0   3.0    3.0   \n",
       "500773              59937                Condo/Co-op  1699000.0   2.0    2.0   \n",
       "500774              59937                  Townhouse   669900.0   2.0    2.0   \n",
       "\n",
       "        SQUARE FEET  YEAR BUILT  \\\n",
       "0            1976.0      2019.0   \n",
       "1            4236.0      2010.0   \n",
       "2            2690.0      2002.0   \n",
       "3            1624.0      1950.0   \n",
       "4            1400.0      1950.0   \n",
       "...             ...         ...   \n",
       "500770       2707.0      2023.0   \n",
       "500771       2906.0      2022.0   \n",
       "500772       1960.0      2022.0   \n",
       "500773       1698.0      2022.0   \n",
       "500774       1367.0      2022.0   \n",
       "\n",
       "       URL (SEE https://www.redfin.com/buy-a-home/comparative-market-analysis FOR INFO ON PRICING)  \n",
       "0       https://www.redfin.com/AL/Maplesville/4900-Cou...                                           \n",
       "1       https://www.redfin.com/AL/Maplesville/9455-AL-...                                           \n",
       "2       https://www.redfin.com/AL/Maplesville/185-Coun...                                           \n",
       "3       https://www.redfin.com/AL/Prichard/231-Birming...                                           \n",
       "4       https://www.redfin.com/AL/Mobile/1417-Saint-Cl...                                           \n",
       "...                                                   ...                                           \n",
       "500770  https://www.redfin.com/MT/Whitefish/28-Miles-A...                                           \n",
       "500771  https://www.redfin.com/MT/Whitefish/57-Crestwo...                                           \n",
       "500772  https://www.redfin.com/MT/Whitefish/1515-U-S-9...                                           \n",
       "500773  https://www.redfin.com/MT/Whitefish/1515-U-S-9...                                           \n",
       "500774  https://www.redfin.com/MT/Whitefish/247-Elm-Ct...                                           \n",
       "\n",
       "[500775 rows x 11 columns]"
      ]
     },
     "execution_count": 301,
     "metadata": {},
     "output_type": "execute_result"
    }
   ],
   "source": [
    "df"
   ]
  },
  {
   "cell_type": "code",
   "execution_count": 292,
   "metadata": {},
   "outputs": [
    {
     "name": "stdout",
     "output_type": "stream",
     "text": [
      "<class 'pandas.core.frame.DataFrame'>\n",
      "RangeIndex: 490988 entries, 0 to 490987\n",
      "Data columns (total 13 columns):\n",
      " #   Column              Non-Null Count   Dtype  \n",
      "---  ------              --------------   -----  \n",
      " 0   ADDRESS             490988 non-null  object \n",
      " 1   CITY                490988 non-null  object \n",
      " 2   STATE OR PROVINCE   490988 non-null  object \n",
      " 3   ZIP OR POSTAL CODE  490988 non-null  object \n",
      " 4   PROPERTY TYPE       490988 non-null  object \n",
      " 5   PRICE               490988 non-null  float64\n",
      " 6   BEDS                490988 non-null  float64\n",
      " 7   BATHS               490988 non-null  float64\n",
      " 8   SQUARE FEET         490988 non-null  float64\n",
      " 9   YEAR BUILT          490988 non-null  float64\n",
      " 10  DAYS ON MARKET      490988 non-null  float64\n",
      " 11  LATITUDE            490988 non-null  float64\n",
      " 12  LONGITUDE           490988 non-null  float64\n",
      "dtypes: float64(8), object(5)\n",
      "memory usage: 48.7+ MB\n"
     ]
    }
   ],
   "source": [
    "df_full.info()"
   ]
  },
  {
   "cell_type": "code",
   "execution_count": 209,
   "metadata": {},
   "outputs": [],
   "source": [
    "df_NN=df_final[['BEDS','BATHS','SQUARE FEET','YEAR BUILT']]"
   ]
  },
  {
   "cell_type": "code",
   "execution_count": 210,
   "metadata": {},
   "outputs": [],
   "source": [
    "# Define the transformations for each column\n",
    "preprocessor = ColumnTransformer(\n",
    "transformers=[\n",
    "    ('minmax_scaler',MinMaxScaler(),['BEDS','BATHS','SQUARE FEET','YEAR BUILT'])\n",
    "])\n",
    "\n",
    "# Apply the transformations in a pipeline\n",
    "pipeline = Pipeline(steps=[('preprocessor', preprocessor)])\n",
    "\n",
    "df_NN=pipeline.fit_transform(df_NN)"
   ]
  },
  {
   "attachments": {},
   "cell_type": "markdown",
   "metadata": {},
   "source": [
    "### Need to reduce impact of Year Built, so will probably require custom distance func"
   ]
  },
  {
   "cell_type": "code",
   "execution_count": 211,
   "metadata": {},
   "outputs": [
    {
     "data": {
      "text/plain": [
       "array([[2.02020202e-02, 3.00000000e-04, 8.64817406e-05, 2.28832952e+00]])"
      ]
     },
     "execution_count": 211,
     "metadata": {},
     "output_type": "execute_result"
    }
   ],
   "source": [
    "input_df = pd.DataFrame({'BEDS':[2],'BATHS':[2],'SQUARE FEET':[1800],'YEAR BUILT':[5000]})\n",
    "input_df\n",
    "\n",
    "input_t=pipeline.transform(input_df)\n",
    "input_t\n"
   ]
  },
  {
   "cell_type": "code",
   "execution_count": 212,
   "metadata": {},
   "outputs": [
    {
     "data": {
      "text/plain": [
       "0.020202020202020204"
      ]
     },
     "execution_count": 212,
     "metadata": {},
     "output_type": "execute_result"
    }
   ],
   "source": [
    "input_t[0][0]"
   ]
  },
  {
   "cell_type": "code",
   "execution_count": 242,
   "metadata": {},
   "outputs": [],
   "source": [
    "from scipy.spatial.distance import euclidean\n",
    "from sklearn.neighbors import DistanceMetric\n",
    "\n",
    "def weighted_euclidean(x,y):\n",
    "    weights=np.array([1,1,1,0])\n",
    "    \n",
    "    return euclidean(x,y,weights)\n",
    "\n",
    "\n",
    "# NEED TO FIGURE OUT HOW TO APPLY WEIGHTS PROPERLY\n"
   ]
  },
  {
   "cell_type": "code",
   "execution_count": 243,
   "metadata": {},
   "outputs": [],
   "source": [
    "\n",
    "knn=NearestNeighbors(n_neighbors=df_NN.shape[0],metric=weighted_euclidean)\n",
    "knn.fit(df_NN)\n",
    "\n",
    "distances, indices = knn.kneighbors(input_t)\n",
    "\n",
    "        \n",
    "        \n",
    "\n",
    "    "
   ]
  },
  {
   "cell_type": "code",
   "execution_count": 244,
   "metadata": {},
   "outputs": [
    {
     "data": {
      "text/plain": [
       "array([2.02020202e-02, 3.00000000e-04, 8.64817406e-05, 2.28832952e+00])"
      ]
     },
     "execution_count": 244,
     "metadata": {},
     "output_type": "execute_result"
    }
   ],
   "source": [
    "input_t[0]"
   ]
  },
  {
   "cell_type": "code",
   "execution_count": 245,
   "metadata": {},
   "outputs": [
    {
     "data": {
      "text/plain": [
       "array([4.04040404e-02, 3.00000000e-04, 9.49424334e-05, 5.82951945e-01])"
      ]
     },
     "execution_count": 245,
     "metadata": {},
     "output_type": "execute_result"
    }
   ],
   "source": [
    "df_NN[0]"
   ]
  },
  {
   "cell_type": "code",
   "execution_count": 246,
   "metadata": {},
   "outputs": [
    {
     "data": {
      "text/plain": [
       "array([[2.02020202e-02, 3.00000000e-04, 8.64817406e-05, 2.28832952e+00]])"
      ]
     },
     "execution_count": 246,
     "metadata": {},
     "output_type": "execute_result"
    }
   ],
   "source": [
    "input_t"
   ]
  },
  {
   "cell_type": "code",
   "execution_count": 247,
   "metadata": {},
   "outputs": [],
   "source": [
    "def loss_function(index,input,output):\n",
    "    lst=[]\n",
    "    \n",
    "    for i in range(0,3):\n",
    "        loss=np.abs((input[0][i]-output[index][i]))\n",
    "        \n",
    "        lst.append(loss)\n",
    "        \n",
    "    return np.mean(lst)"
   ]
  },
  {
   "cell_type": "code",
   "execution_count": 248,
   "metadata": {},
   "outputs": [],
   "source": [
    "for index in indices[0][0:5]:\n",
    "    vals=[]\n",
    "    val=loss_function(index,input_t,df_NN)\n",
    "    vals.append(val)\n",
    "    \n",
    "val_avg=np.mean(vals)"
   ]
  },
  {
   "cell_type": "code",
   "execution_count": 241,
   "metadata": {},
   "outputs": [
    {
     "data": {
      "text/plain": [
       "0.003368381434391086"
      ]
     },
     "execution_count": 241,
     "metadata": {},
     "output_type": "execute_result"
    }
   ],
   "source": [
    "val_avg"
   ]
  },
  {
   "cell_type": "code",
   "execution_count": 249,
   "metadata": {},
   "outputs": [
    {
     "data": {
      "text/plain": [
       "0.0"
      ]
     },
     "execution_count": 249,
     "metadata": {},
     "output_type": "execute_result"
    }
   ],
   "source": [
    "val_avg"
   ]
  },
  {
   "cell_type": "code",
   "execution_count": 229,
   "metadata": {},
   "outputs": [
    {
     "data": {
      "text/plain": [
       "ADDRESS                      1103 Fitzgerald Ct\n",
       "CITY                                Summerville\n",
       "STATE OR PROVINCE                            SC\n",
       "ZIP OR POSTAL CODE                        29485\n",
       "PROPERTY TYPE         Single Family Residential\n",
       "PRICE                                  503805.0\n",
       "BEDS                                        5.0\n",
       "BATHS                                       3.0\n",
       "SQUARE FEET                              2226.0\n",
       "YEAR BUILT                               2748.0\n",
       "DAYS ON MARKET                             20.0\n",
       "LATITUDE                                32.9431\n",
       "LONGITUDE                              -80.2772\n",
       "Name: 281733, dtype: object"
      ]
     },
     "execution_count": 229,
     "metadata": {},
     "output_type": "execute_result"
    }
   ],
   "source": [
    "df_full.loc[indices[0][0]]"
   ]
  },
  {
   "cell_type": "code",
   "execution_count": 278,
   "metadata": {},
   "outputs": [],
   "source": [
    "all=df_full[(df_full['PROPERTY TYPE']=='Single Family Residential')]\n",
    "\n",
    "state=df_full[(df_full['PROPERTY TYPE']=='Single Family Residential')&\n",
    "               (df_full['STATE OR PROVINCE']=='TX')]\n",
    "\n",
    "city=df_full[(df_full['PROPERTY TYPE']=='Single Family Residential')&\n",
    "               (df_full['STATE OR PROVINCE']=='TX')&\n",
    "               (df_full['CITY']=='Houston')]\n",
    "\n",
    "zip=df_full[(df_full['PROPERTY TYPE']=='Single Family Residential')&\n",
    "               (df_full['STATE OR PROVINCE']=='TX')&\n",
    "               (df_full['CITY']=='Houston')&\n",
    "               (df_full['ZIP OR POSTAL CODE']=='77004')]\n",
    "\n",
    "slices=[all,state,city,zip]"
   ]
  },
  {
   "cell_type": "code",
   "execution_count": 279,
   "metadata": {},
   "outputs": [],
   "source": [
    "def loss_function(index,input,output):\n",
    "    lst=[]\n",
    "    \n",
    "    for i in range(0,3):\n",
    "        loss=np.abs((input[0][i]-output[index][i]))\n",
    "        \n",
    "        lst.append(loss)\n",
    "        \n",
    "    return np.mean(lst)\n",
    "        \n",
    "    \n"
   ]
  },
  {
   "cell_type": "code",
   "execution_count": 280,
   "metadata": {},
   "outputs": [],
   "source": [
    "# OPTIMUM WEIGHT FOR YEAR BUILT SEARCH\n",
    "\n",
    "# Beware, could take a VERY long time\n",
    "\n",
    "results={} # Dict of dicts of lists of tuples\n",
    "\n",
    "for i,slice in enumerate(slices):\n",
    "\n",
    "    str=\"\"\n",
    "            \n",
    "    if i==0:\n",
    "        str='all'\n",
    "        \n",
    "    elif i==1:\n",
    "        str='state'\n",
    "        \n",
    "    elif i==2:\n",
    "        str='city'\n",
    "        \n",
    "    else:\n",
    "        str='zip'\n",
    "\n",
    "    results[str]={}\n",
    "    \n",
    "    preprocessor = ColumnTransformer(\n",
    "    transformers=[\n",
    "        ('minmax_scaler',MinMaxScaler(),['BEDS','BATHS','SQUARE FEET'])\n",
    "    ])\n",
    "\n",
    "    pipeline = Pipeline(steps=[('preprocessor', preprocessor)])\n",
    "    \n",
    "    slice_np=pipeline.fit_transform(slice[['BEDS','BATHS','SQUARE FEET']])\n",
    "    \n",
    "    for year in [2000,2020,1900]:\n",
    "        \n",
    "        input_df = pd.DataFrame({'BEDS':[3],'BATHS':[3],'SQUARE FEET':[2600]})\n",
    "        input_df\n",
    "\n",
    "        input_t=pipeline.transform(input_df)\n",
    "        input_t\n",
    "        \n",
    "        dct={\"weights\":[],\"loss\":[]}\n",
    "\n",
    "        for w in np.linspace(0,1,21):\n",
    "            \n",
    "            def weighted_euclidean(x:np.array,y:np.array):\n",
    "                weights=np.array([1,1,1,w])\n",
    "                \n",
    "                return euclidean(x,y,weights)\n",
    "            \n",
    "            knn=NearestNeighbors(n_neighbors=slice_np.shape[0],metric=weighted_euclidean)\n",
    "            knn.fit(slice_np)\n",
    "\n",
    "            distances, indices = knn.kneighbors(input_t)\n",
    "            \n",
    "            for index in indices[0][0:5]:\n",
    "                vals=[]\n",
    "                val=loss_function(index,input_t,slice_np)\n",
    "                vals.append(val)\n",
    "                \n",
    "            val_avg=np.mean(vals)\n",
    "                \n",
    "            dct['weights'].append(w)\n",
    "            dct['loss'].append(val_avg)\n",
    "                \n",
    "                \n",
    "        results[str][year]=dct\n",
    "            \n",
    "        \n",
    "                \n",
    "                \n",
    "            \n",
    "\n",
    "            \n",
    "        \n"
   ]
  },
  {
   "cell_type": "code",
   "execution_count": 284,
   "metadata": {},
   "outputs": [],
   "source": [
    "\n",
    "results_df=pd.DataFrame(results['city'][1900])\n",
    "\n",
    "\n",
    "    "
   ]
  },
  {
   "cell_type": "code",
   "execution_count": 285,
   "metadata": {},
   "outputs": [
    {
     "data": {
      "text/html": [
       "<div>\n",
       "<style scoped>\n",
       "    .dataframe tbody tr th:only-of-type {\n",
       "        vertical-align: middle;\n",
       "    }\n",
       "\n",
       "    .dataframe tbody tr th {\n",
       "        vertical-align: top;\n",
       "    }\n",
       "\n",
       "    .dataframe thead th {\n",
       "        text-align: right;\n",
       "    }\n",
       "</style>\n",
       "<table border=\"1\" class=\"dataframe\">\n",
       "  <thead>\n",
       "    <tr style=\"text-align: right;\">\n",
       "      <th></th>\n",
       "      <th>weights</th>\n",
       "      <th>loss</th>\n",
       "    </tr>\n",
       "  </thead>\n",
       "  <tbody>\n",
       "    <tr>\n",
       "      <th>0</th>\n",
       "      <td>0.00</td>\n",
       "      <td>0.000652</td>\n",
       "    </tr>\n",
       "    <tr>\n",
       "      <th>1</th>\n",
       "      <td>0.05</td>\n",
       "      <td>0.018803</td>\n",
       "    </tr>\n",
       "    <tr>\n",
       "      <th>2</th>\n",
       "      <td>0.10</td>\n",
       "      <td>0.021078</td>\n",
       "    </tr>\n",
       "    <tr>\n",
       "      <th>3</th>\n",
       "      <td>0.15</td>\n",
       "      <td>0.021078</td>\n",
       "    </tr>\n",
       "    <tr>\n",
       "      <th>4</th>\n",
       "      <td>0.20</td>\n",
       "      <td>0.021078</td>\n",
       "    </tr>\n",
       "    <tr>\n",
       "      <th>5</th>\n",
       "      <td>0.25</td>\n",
       "      <td>0.020951</td>\n",
       "    </tr>\n",
       "    <tr>\n",
       "      <th>6</th>\n",
       "      <td>0.30</td>\n",
       "      <td>0.034936</td>\n",
       "    </tr>\n",
       "    <tr>\n",
       "      <th>7</th>\n",
       "      <td>0.35</td>\n",
       "      <td>0.038553</td>\n",
       "    </tr>\n",
       "    <tr>\n",
       "      <th>8</th>\n",
       "      <td>0.40</td>\n",
       "      <td>0.023034</td>\n",
       "    </tr>\n",
       "    <tr>\n",
       "      <th>9</th>\n",
       "      <td>0.45</td>\n",
       "      <td>0.023034</td>\n",
       "    </tr>\n",
       "    <tr>\n",
       "      <th>10</th>\n",
       "      <td>0.50</td>\n",
       "      <td>0.023034</td>\n",
       "    </tr>\n",
       "    <tr>\n",
       "      <th>11</th>\n",
       "      <td>0.55</td>\n",
       "      <td>0.043775</td>\n",
       "    </tr>\n",
       "    <tr>\n",
       "      <th>12</th>\n",
       "      <td>0.60</td>\n",
       "      <td>0.043775</td>\n",
       "    </tr>\n",
       "    <tr>\n",
       "      <th>13</th>\n",
       "      <td>0.65</td>\n",
       "      <td>0.043775</td>\n",
       "    </tr>\n",
       "    <tr>\n",
       "      <th>14</th>\n",
       "      <td>0.70</td>\n",
       "      <td>0.043775</td>\n",
       "    </tr>\n",
       "    <tr>\n",
       "      <th>15</th>\n",
       "      <td>0.75</td>\n",
       "      <td>0.043775</td>\n",
       "    </tr>\n",
       "    <tr>\n",
       "      <th>16</th>\n",
       "      <td>0.80</td>\n",
       "      <td>0.043775</td>\n",
       "    </tr>\n",
       "    <tr>\n",
       "      <th>17</th>\n",
       "      <td>0.85</td>\n",
       "      <td>0.043775</td>\n",
       "    </tr>\n",
       "    <tr>\n",
       "      <th>18</th>\n",
       "      <td>0.90</td>\n",
       "      <td>0.043775</td>\n",
       "    </tr>\n",
       "    <tr>\n",
       "      <th>19</th>\n",
       "      <td>0.95</td>\n",
       "      <td>0.043775</td>\n",
       "    </tr>\n",
       "    <tr>\n",
       "      <th>20</th>\n",
       "      <td>1.00</td>\n",
       "      <td>0.043775</td>\n",
       "    </tr>\n",
       "  </tbody>\n",
       "</table>\n",
       "</div>"
      ],
      "text/plain": [
       "    weights      loss\n",
       "0      0.00  0.000652\n",
       "1      0.05  0.018803\n",
       "2      0.10  0.021078\n",
       "3      0.15  0.021078\n",
       "4      0.20  0.021078\n",
       "5      0.25  0.020951\n",
       "6      0.30  0.034936\n",
       "7      0.35  0.038553\n",
       "8      0.40  0.023034\n",
       "9      0.45  0.023034\n",
       "10     0.50  0.023034\n",
       "11     0.55  0.043775\n",
       "12     0.60  0.043775\n",
       "13     0.65  0.043775\n",
       "14     0.70  0.043775\n",
       "15     0.75  0.043775\n",
       "16     0.80  0.043775\n",
       "17     0.85  0.043775\n",
       "18     0.90  0.043775\n",
       "19     0.95  0.043775\n",
       "20     1.00  0.043775"
      ]
     },
     "execution_count": 285,
     "metadata": {},
     "output_type": "execute_result"
    }
   ],
   "source": [
    "results_df"
   ]
  },
  {
   "attachments": {},
   "cell_type": "markdown",
   "metadata": {},
   "source": [
    "\n",
    "### Warning: Regarding the Nearest Neighbors algorithms,if two neighbors and have identical distances but different labels, the result will depend on the ordering of the training data."
   ]
  },
  {
   "cell_type": "code",
   "execution_count": 108,
   "metadata": {},
   "outputs": [],
   "source": [
    "df_slice=df_full[df_full['ZIP OR POSTAL CODE']=='78705']"
   ]
  },
  {
   "cell_type": "code",
   "execution_count": 109,
   "metadata": {},
   "outputs": [
    {
     "data": {
      "text/html": [
       "<div>\n",
       "<style scoped>\n",
       "    .dataframe tbody tr th:only-of-type {\n",
       "        vertical-align: middle;\n",
       "    }\n",
       "\n",
       "    .dataframe tbody tr th {\n",
       "        vertical-align: top;\n",
       "    }\n",
       "\n",
       "    .dataframe thead th {\n",
       "        text-align: right;\n",
       "    }\n",
       "</style>\n",
       "<table border=\"1\" class=\"dataframe\">\n",
       "  <thead>\n",
       "    <tr style=\"text-align: right;\">\n",
       "      <th></th>\n",
       "      <th>ADDRESS</th>\n",
       "      <th>CITY</th>\n",
       "      <th>STATE OR PROVINCE</th>\n",
       "      <th>ZIP OR POSTAL CODE</th>\n",
       "      <th>PROPERTY TYPE</th>\n",
       "      <th>PRICE</th>\n",
       "      <th>BEDS</th>\n",
       "      <th>BATHS</th>\n",
       "      <th>SQUARE FEET</th>\n",
       "      <th>YEAR BUILT</th>\n",
       "      <th>DAYS ON MARKET</th>\n",
       "      <th>LATITUDE</th>\n",
       "      <th>LONGITUDE</th>\n",
       "    </tr>\n",
       "  </thead>\n",
       "  <tbody>\n",
       "  </tbody>\n",
       "</table>\n",
       "</div>"
      ],
      "text/plain": [
       "Empty DataFrame\n",
       "Columns: [ADDRESS, CITY, STATE OR PROVINCE, ZIP OR POSTAL CODE, PROPERTY TYPE, PRICE, BEDS, BATHS, SQUARE FEET, YEAR BUILT, DAYS ON MARKET, LATITUDE, LONGITUDE]\n",
       "Index: []"
      ]
     },
     "execution_count": 109,
     "metadata": {},
     "output_type": "execute_result"
    }
   ],
   "source": [
    "df_slice"
   ]
  },
  {
   "cell_type": "code",
   "execution_count": 110,
   "metadata": {},
   "outputs": [],
   "source": [
    "picks=[]\n",
    "\n",
    "for i in indices[0]:\n",
    "    try:\n",
    "        pick=df_slice.loc[i]\n",
    "        picks.append(pick)\n",
    "    except:\n",
    "        pass\n",
    "    \n",
    "    if len(picks)==3:\n",
    "        break"
   ]
  },
  {
   "cell_type": "code",
   "execution_count": 111,
   "metadata": {},
   "outputs": [
    {
     "ename": "IndexError",
     "evalue": "list index out of range",
     "output_type": "error",
     "traceback": [
      "\u001b[1;31m---------------------------------------------------------------------------\u001b[0m",
      "\u001b[1;31mIndexError\u001b[0m                                Traceback (most recent call last)",
      "Cell \u001b[1;32mIn[111], line 1\u001b[0m\n\u001b[1;32m----> 1\u001b[0m picks[\u001b[39m0\u001b[39;49m]\n",
      "\u001b[1;31mIndexError\u001b[0m: list index out of range"
     ]
    }
   ],
   "source": [
    "picks[0]"
   ]
  },
  {
   "cell_type": "code",
   "execution_count": 91,
   "metadata": {},
   "outputs": [
    {
     "data": {
      "text/plain": [
       "ADDRESS                   2501 Truxillo St #6\n",
       "CITY                                  Houston\n",
       "STATE OR PROVINCE                          TX\n",
       "ZIP OR POSTAL CODE                      77004\n",
       "PROPERTY TYPE         Multi-Family (2-4 Unit)\n",
       "PRICE                                780000.0\n",
       "BEDS                                      9.0\n",
       "BATHS                                     1.0\n",
       "SQUARE FEET                            5000.0\n",
       "YEAR BUILT                             1930.0\n",
       "DAYS ON MARKET                           62.0\n",
       "LATITUDE                             29.72961\n",
       "LONGITUDE                          -95.367364\n",
       "Name: 349536, dtype: object"
      ]
     },
     "execution_count": 91,
     "metadata": {},
     "output_type": "execute_result"
    }
   ],
   "source": [
    "picks[1]"
   ]
  },
  {
   "cell_type": "code",
   "execution_count": 71,
   "metadata": {},
   "outputs": [
    {
     "data": {
      "text/plain": [
       "ADDRESS                          3342 Reeves St\n",
       "CITY                                    Houston\n",
       "STATE OR PROVINCE                            TX\n",
       "ZIP OR POSTAL CODE                        77004\n",
       "PROPERTY TYPE         Single Family Residential\n",
       "PRICE                                  250000.0\n",
       "BEDS                                        3.0\n",
       "BATHS                                       2.0\n",
       "SQUARE FEET                              1104.0\n",
       "YEAR BUILT                               2002.0\n",
       "DAYS ON MARKET                             49.0\n",
       "LATITUDE                              29.727252\n",
       "LONGITUDE                            -95.355255\n",
       "Name: 349519, dtype: object"
      ]
     },
     "execution_count": 71,
     "metadata": {},
     "output_type": "execute_result"
    }
   ],
   "source": [
    "df_full.iloc[349519]"
   ]
  },
  {
   "cell_type": "code",
   "execution_count": 298,
   "metadata": {},
   "outputs": [
    {
     "data": {
      "text/plain": [
       "array([[3.03030303e-02, 3.00000000e-04, 8.64817406e-05, 5.72082380e-01]])"
      ]
     },
     "execution_count": 298,
     "metadata": {},
     "output_type": "execute_result"
    }
   ],
   "source": [
    "input_t"
   ]
  },
  {
   "cell_type": "code",
   "execution_count": null,
   "metadata": {},
   "outputs": [],
   "source": []
  }
 ],
 "metadata": {
  "kernelspec": {
   "display_name": "PyML",
   "language": "python",
   "name": "python3"
  },
  "language_info": {
   "codemirror_mode": {
    "name": "ipython",
    "version": 3
   },
   "file_extension": ".py",
   "mimetype": "text/x-python",
   "name": "python",
   "nbconvert_exporter": "python",
   "pygments_lexer": "ipython3",
   "version": "3.10.10"
  },
  "orig_nbformat": 4
 },
 "nbformat": 4,
 "nbformat_minor": 2
}
